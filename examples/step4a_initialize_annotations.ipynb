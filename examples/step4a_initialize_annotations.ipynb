{
 "cells": [
  {
   "cell_type": "markdown",
   "metadata": {},
   "source": [
    "<a href=\"https://colab.research.google.com/github/jgraving/deepposekit/blob/master/examples/step4a_initialize_annotations.ipynb\" target=\"_parent\"><img src=\"https://colab.research.google.com/assets/colab-badge.svg\" alt=\"Open In Colab\"/></a>\n"
   ]
  },
  {
   "cell_type": "markdown",
   "metadata": {},
   "source": [
    "# DeepPoseKit Step 4a - Initialize annotations\n",
    "\n",
    "This is step 4a of the example notebooks for using DeepPoseKit. This notebook shows you how to use your trained model to initialize the keypoint labels for the unannotated images in your annotation set.\n",
    "\n",
    "**NOTE**: If you run into problems, you can help us improve DeepPoseKit by [opening an issue](https://github.com/jgraving/deepposekit/issues/new) or [submitting a pull request](https://help.github.com/en/articles/creating-a-pull-request-from-a-fork)\n",
    "\n",
    "**If you're using Colab**: make sure to go to the “Runtime” dropdown menu, select “Change runtime type” and select `GPU` in the \"Hardware accelerator\" drop-down menu\n"
   ]
  },
  {
   "cell_type": "markdown",
   "metadata": {},
   "source": [
    "If you haven't already installed DeepPoseKit you can run the next cell"
   ]
  },
  {
   "cell_type": "code",
   "execution_count": 1,
   "metadata": {},
   "outputs": [
    {
     "name": "stdout",
     "output_type": "stream",
     "text": [
      "Requirement already satisfied: deepposekit in c:\\users\\advait\\anaconda3\\lib\\site-packages (0.3.9)\n",
      "Requirement already satisfied: pyyaml in c:\\users\\advait\\anaconda3\\lib\\site-packages (from deepposekit) (5.4.1)\n",
      "Requirement already satisfied: h5py in c:\\users\\advait\\anaconda3\\lib\\site-packages (from deepposekit) (2.10.0)\n",
      "Requirement already satisfied: matplotlib in c:\\users\\advait\\anaconda3\\lib\\site-packages (from deepposekit) (3.3.2)\n",
      "Requirement already satisfied: opencv-python in c:\\users\\advait\\anaconda3\\lib\\site-packages (from deepposekit) (4.5.1.48)\n",
      "Requirement already satisfied: numpy in c:\\users\\advait\\anaconda3\\lib\\site-packages (from deepposekit) (1.19.5)\n",
      "Requirement already satisfied: imgaug>=0.2.9 in c:\\users\\advait\\anaconda3\\lib\\site-packages (from deepposekit) (0.4.0)\n",
      "Requirement already satisfied: pandas in c:\\users\\advait\\anaconda3\\lib\\site-packages (from deepposekit) (1.1.5)\n",
      "Requirement already satisfied: Pillow in c:\\users\\advait\\anaconda3\\lib\\site-packages (from imgaug>=0.2.9->deepposekit) (8.1.0)\n",
      "Requirement already satisfied: six in c:\\users\\advait\\anaconda3\\lib\\site-packages (from imgaug>=0.2.9->deepposekit) (1.15.0)\n",
      "Requirement already satisfied: imageio in c:\\users\\advait\\anaconda3\\lib\\site-packages (from imgaug>=0.2.9->deepposekit) (2.9.0)\n",
      "Requirement already satisfied: Shapely in c:\\users\\advait\\anaconda3\\lib\\site-packages (from imgaug>=0.2.9->deepposekit) (1.7.1)\n",
      "Requirement already satisfied: scikit-image>=0.14.2 in c:\\users\\advait\\anaconda3\\lib\\site-packages (from imgaug>=0.2.9->deepposekit) (0.15.0)\n",
      "Requirement already satisfied: scipy in c:\\users\\advait\\anaconda3\\lib\\site-packages (from imgaug>=0.2.9->deepposekit) (1.5.2)\n",
      "Requirement already satisfied: networkx>=2.0 in c:\\users\\advait\\anaconda3\\lib\\site-packages (from scikit-image>=0.14.2->imgaug>=0.2.9->deepposekit) (2.5)\n",
      "Requirement already satisfied: PyWavelets>=0.4.0 in c:\\users\\advait\\anaconda3\\lib\\site-packages (from scikit-image>=0.14.2->imgaug>=0.2.9->deepposekit) (1.1.1)\n",
      "Requirement already satisfied: certifi>=2020.06.20 in c:\\users\\advait\\anaconda3\\lib\\site-packages (from matplotlib->deepposekit) (2020.12.5)\n",
      "Requirement already satisfied: cycler>=0.10 in c:\\users\\advait\\anaconda3\\lib\\site-packages (from matplotlib->deepposekit) (0.10.0)\n",
      "Requirement already satisfied: python-dateutil>=2.1 in c:\\users\\advait\\anaconda3\\lib\\site-packages (from matplotlib->deepposekit) (2.8.1)\n",
      "Requirement already satisfied: kiwisolver>=1.0.1 in c:\\users\\advait\\anaconda3\\lib\\site-packages (from matplotlib->deepposekit) (1.3.1)\n",
      "Requirement already satisfied: pyparsing!=2.0.4,!=2.1.2,!=2.1.6,>=2.0.3 in c:\\users\\advait\\anaconda3\\lib\\site-packages (from matplotlib->deepposekit) (2.4.7)\n",
      "Requirement already satisfied: decorator>=4.3.0 in c:\\users\\advait\\anaconda3\\lib\\site-packages (from networkx>=2.0->scikit-image>=0.14.2->imgaug>=0.2.9->deepposekit) (4.4.2)\n",
      "Requirement already satisfied: pytz>=2017.2 in c:\\users\\advait\\anaconda3\\lib\\site-packages (from pandas->deepposekit) (2021.1)\n"
     ]
    }
   ],
   "source": [
    "import sys\n",
    "!{sys.executable} -m pip install -U deepposekit"
   ]
  },
  {
   "cell_type": "code",
   "execution_count": 2,
   "metadata": {
    "scrolled": true
   },
   "outputs": [],
   "source": [
    "import numpy as np\n",
    "import matplotlib.pyplot as plt\n",
    "import cv2\n",
    "import glob\n",
    "\n",
    "from deepposekit.models import load_model\n",
    "from deepposekit.io import DataGenerator, ImageGenerator\n",
    "\n",
    "from os.path import expanduser\n",
    "\n",
    "try:\n",
    "    import google.colab\n",
    "    IN_COLAB = True\n",
    "except:\n",
    "    IN_COLAB = False\n",
    "\n",
    "HOME = expanduser(\"~\") if not IN_COLAB else '.'"
   ]
  },
  {
   "cell_type": "markdown",
   "metadata": {},
   "source": [
    "Use the next cell to download the example data into your home directory"
   ]
  },
  {
   "cell_type": "code",
   "execution_count": 3,
   "metadata": {},
   "outputs": [],
   "source": [
    "from tensorflow.compat.v1 import ConfigProto\n",
    "from tensorflow.compat.v1 import InteractiveSession\n",
    "\n",
    "config = ConfigProto()\n",
    "config.gpu_options.per_process_gpu_memory_fraction = 0.7\n",
    "config.gpu_options.allow_growth = True\n",
    "session = InteractiveSession(config=config)"
   ]
  },
  {
   "cell_type": "code",
   "execution_count": 4,
   "metadata": {},
   "outputs": [],
   "source": [
    "# physical_devices = tf.config.experimental.list_physical_devices('GPU')\n",
    "# tf.config.experimental.set_memory_growth(physical_devices[0], True)"
   ]
  },
  {
   "cell_type": "code",
   "execution_count": null,
   "metadata": {},
   "outputs": [],
   "source": []
  },
  {
   "cell_type": "code",
   "execution_count": 5,
   "metadata": {},
   "outputs": [
    {
     "name": "stderr",
     "output_type": "stream",
     "text": [
      "fatal: destination path 'C:\\Users\\Advait/deepposekit-data' already exists and is not an empty directory.\n"
     ]
    }
   ],
   "source": [
    "!git clone https://github.com/jgraving/deepposekit-data {HOME + '/deepposekit-data'}"
   ]
  },
  {
   "cell_type": "markdown",
   "metadata": {},
   "source": [
    "Find the saved models"
   ]
  },
  {
   "cell_type": "code",
   "execution_count": null,
   "metadata": {},
   "outputs": [],
   "source": []
  },
  {
   "cell_type": "code",
   "execution_count": 6,
   "metadata": {},
   "outputs": [
    {
     "data": {
      "text/plain": [
       "['C:\\\\Users\\\\Advait/deepposekit-data/datasets/fly\\\\best_model_densenet.h5']"
      ]
     },
     "execution_count": 6,
     "metadata": {},
     "output_type": "execute_result"
    }
   ],
   "source": [
    "models = sorted(glob.glob(HOME + '/deepposekit-data/datasets/fly/*model*.h5'))\n",
    "models"
   ]
  },
  {
   "cell_type": "markdown",
   "metadata": {},
   "source": [
    "Find the annotation sets"
   ]
  },
  {
   "cell_type": "code",
   "execution_count": 7,
   "metadata": {},
   "outputs": [
    {
     "data": {
      "text/plain": [
       "['C:\\\\Users\\\\Advait/deepposekit-data/datasets/fly\\\\annotation_data_release.h5',\n",
       " 'C:\\\\Users\\\\Advait/deepposekit-data/datasets/fly\\\\example_annotation_set.h5']"
      ]
     },
     "execution_count": 7,
     "metadata": {},
     "output_type": "execute_result"
    }
   ],
   "source": [
    "annotations = sorted(glob.glob(HOME + '/deepposekit-data/datasets/fly/*annotation*.h5'))\n",
    "annotations"
   ]
  },
  {
   "cell_type": "markdown",
   "metadata": {},
   "source": [
    "# Load the trained model\n",
    "\n",
    "This loads the trained model into memory for making predictions"
   ]
  },
  {
   "cell_type": "code",
   "execution_count": 8,
   "metadata": {},
   "outputs": [],
   "source": [
    "model = load_model(HOME + '/deepposekit-data/datasets/fly/best_model_densenet.h5')"
   ]
  },
  {
   "cell_type": "markdown",
   "metadata": {},
   "source": [
    "# Initialize unannotated data\n",
    "\n",
    "This creates a `DataGenerator` instance for loading the data, which is then wrapped in an `ImageGenerator`. `ImageGenerator` is then passed to the model for initializing the unannotated keypoints with predictions from a previously-trained model the image data. See the doc string for details:"
   ]
  },
  {
   "cell_type": "code",
   "execution_count": 9,
   "metadata": {},
   "outputs": [
    {
     "data": {
      "text/plain": [
       "\u001b[1;31mInit signature:\u001b[0m \u001b[0mDataGenerator\u001b[0m\u001b[1;33m(\u001b[0m\u001b[0mdatapath\u001b[0m\u001b[1;33m,\u001b[0m \u001b[0mdataset\u001b[0m\u001b[1;33m=\u001b[0m\u001b[1;34m'images'\u001b[0m\u001b[1;33m,\u001b[0m \u001b[0mmode\u001b[0m\u001b[1;33m=\u001b[0m\u001b[1;34m'annotated'\u001b[0m\u001b[1;33m,\u001b[0m \u001b[1;33m**\u001b[0m\u001b[0mkwargs\u001b[0m\u001b[1;33m)\u001b[0m\u001b[1;33m\u001b[0m\u001b[1;33m\u001b[0m\u001b[0m\n",
       "\u001b[1;31mDocstring:\u001b[0m     \n",
       "Creates a data generator for accessing an annotation set.\n",
       "\n",
       "Parameters\n",
       "----------\n",
       "datapath : str\n",
       "    The path to the annotations file. Must be .h5\n",
       "    e.g. '/path/to/file.h5'\n",
       "dataset : str\n",
       "    The key for the image dataset in the annotations file.\n",
       "    e.g. 'images'\n",
       "mode : str\n",
       "    The mode for loading and saving data.\n",
       "    Must be 'unannotated', 'annotated', or \"full\"\n",
       "\u001b[1;31mInit docstring:\u001b[0m\n",
       "Initializes the BaseGenerator class.\n",
       "If graph and swap_index are not defined,\n",
       "they are set to a vector of -1 corresponding\n",
       "to keypoints shape\n",
       "\u001b[1;31mFile:\u001b[0m           c:\\users\\advait\\anaconda3\\lib\\site-packages\\deepposekit\\io\\datagenerator.py\n",
       "\u001b[1;31mType:\u001b[0m           type\n",
       "\u001b[1;31mSubclasses:\u001b[0m     \n"
      ]
     },
     "metadata": {},
     "output_type": "display_data"
    }
   ],
   "source": [
    "DataGenerator?"
   ]
  },
  {
   "cell_type": "code",
   "execution_count": 10,
   "metadata": {},
   "outputs": [
    {
     "data": {
      "text/plain": [
       "\u001b[1;31mInit signature:\u001b[0m \u001b[0mImageGenerator\u001b[0m\u001b[1;33m(\u001b[0m\u001b[0mgenerator\u001b[0m\u001b[1;33m,\u001b[0m \u001b[1;33m**\u001b[0m\u001b[0mkwargs\u001b[0m\u001b[1;33m)\u001b[0m\u001b[1;33m\u001b[0m\u001b[1;33m\u001b[0m\u001b[0m\n",
       "\u001b[1;31mDocstring:\u001b[0m     \n",
       "Creates a wrapper for generating images from a data generator.\n",
       "\n",
       "Parameters\n",
       "----------\n",
       "generator: deepposekit.io.BaseGenerator\n",
       "    An instance of BaseGenerator (deepposekit.io.BaseGenerator) object.\n",
       "    The output of the generator must be `(images, keypoints)`, where images\n",
       "    are a numpy array of shape (n_images, height, width, channels), and \n",
       "    keypoints are a numpy array of shape (n_images, n_keypoints, 2), where\n",
       "    2 is the row, column coordinates of the keypoints in each image.\n",
       "\u001b[1;31mInit docstring:\u001b[0m\n",
       "Initializes the BaseGenerator class.\n",
       "If graph and swap_index are not defined,\n",
       "they are set to a vector of -1 corresponding\n",
       "to keypoints shape\n",
       "\u001b[1;31mFile:\u001b[0m           c:\\users\\advait\\anaconda3\\lib\\site-packages\\deepposekit\\io\\imagegenerator.py\n",
       "\u001b[1;31mType:\u001b[0m           type\n",
       "\u001b[1;31mSubclasses:\u001b[0m     \n"
      ]
     },
     "metadata": {},
     "output_type": "display_data"
    }
   ],
   "source": [
    "ImageGenerator?"
   ]
  },
  {
   "cell_type": "markdown",
   "metadata": {},
   "source": [
    "Let's initialize our `example_annotation_set.h5` from Step 1"
   ]
  },
  {
   "cell_type": "code",
   "execution_count": 11,
   "metadata": {},
   "outputs": [
    {
     "name": "stderr",
     "output_type": "stream",
     "text": [
      "C:\\Users\\Advait\\Anaconda3\\lib\\site-packages\\deepposekit\\io\\DataGenerator.py:81: H5pyDeprecationWarning: dataset.value has been deprecated. Use dataset[()] instead.\n",
      "  self.annotated = np.all(h5file[\"annotated\"].value, axis=1)\n"
     ]
    }
   ],
   "source": [
    "data_generator = DataGenerator(HOME + '/deepposekit-data/datasets/fly/example_annotation_set.h5', mode='unannotated')\n",
    "image_generator = ImageGenerator(data_generator)"
   ]
  },
  {
   "cell_type": "markdown",
   "metadata": {},
   "source": [
    "This passes the data generator to the model to get the predicted coordinates"
   ]
  },
  {
   "cell_type": "code",
   "execution_count": null,
   "metadata": {},
   "outputs": [],
   "source": []
  },
  {
   "cell_type": "code",
   "execution_count": 12,
   "metadata": {},
   "outputs": [
    {
     "name": "stdout",
     "output_type": "stream",
     "text": [
      "96/96 [==============================] - 8s 87ms/sample\n"
     ]
    }
   ],
   "source": [
    "predictions = model.predict(image_generator, verbose=1)"
   ]
  },
  {
   "cell_type": "code",
   "execution_count": 13,
   "metadata": {},
   "outputs": [
    {
     "data": {
      "text/plain": [
       "(96, 32, 3)"
      ]
     },
     "execution_count": 13,
     "metadata": {},
     "output_type": "execute_result"
    }
   ],
   "source": [
    "predictions.shape"
   ]
  },
  {
   "cell_type": "markdown",
   "metadata": {},
   "source": [
    "This saves the predicted coordinates as initial keypoint locations for the unannotated data"
   ]
  },
  {
   "cell_type": "code",
   "execution_count": 14,
   "metadata": {},
   "outputs": [],
   "source": [
    "data_generator[:] = predictions"
   ]
  },
  {
   "cell_type": "markdown",
   "metadata": {},
   "source": [
    "Indexing the generator, e.g. `data_generator[0]` returns an image-keypoints pair, which you can then visualize. "
   ]
  },
  {
   "cell_type": "code",
   "execution_count": 25,
   "metadata": {},
   "outputs": [
    {
     "data": {
      "image/png": "[encoded data removed]",
      "text/plain": [
       "<Figure size 360x360 with 1 Axes>"
      ]
     },
     "metadata": {
      "needs_background": "light"
     },
     "output_type": "display_data"
    }
   ],
   "source": [
    "image, keypoints = data_generator[4]\n",
    "\n",
    "plt.figure(figsize=(5,5))\n",
    "image = image[0] if image.shape[-1] is 3 else image[0, ..., 0]\n",
    "cmap = None if image.shape[-1] is 3 else 'gray'\n",
    "plt.imshow(image, cmap=cmap, interpolation='none')\n",
    "for idx, jdx in enumerate(data_generator.graph):\n",
    "    if jdx > -1:\n",
    "        plt.plot(\n",
    "            [keypoints[0, idx, 0], keypoints[0, jdx, 0]],\n",
    "            [keypoints[0, idx, 1], keypoints[0, jdx, 1]],\n",
    "            'r-'\n",
    "        )\n",
    "plt.scatter(keypoints[0, :, 0], keypoints[0, :, 1], c=np.arange(data_generator.keypoints_shape[0]), s=50, cmap=plt.cm.hsv, zorder=3)\n",
    "\n",
    "plt.show()"
   ]
  },
  {
   "cell_type": "code",
   "execution_count": null,
   "metadata": {},
   "outputs": [],
   "source": []
  }
 ],
 "metadata": {
  "kernelspec": {
   "display_name": "Python 3",
   "language": "python",
   "name": "python3"
  },
  "language_info": {
   "codemirror_mode": {
    "name": "ipython",
    "version": 3
   },
   "file_extension": ".py",
   "mimetype": "text/x-python",
   "name": "python",
   "nbconvert_exporter": "python",
   "pygments_lexer": "ipython3",
   "version": "3.6.12"
  }
 },
 "nbformat": 4,
 "nbformat_minor": 4
}

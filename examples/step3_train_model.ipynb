{
 "cells": [
  {
   "cell_type": "markdown",
   "metadata": {},
   "source": [
    "<a href=\"https://colab.research.google.com/github/jgraving/deepposekit/blob/master/examples/step3_train_model.ipynb\" target=\"_parent\"><img src=\"https://colab.research.google.com/assets/colab-badge.svg\" alt=\"Open In Colab\"/></a>"
   ]
  },
  {
   "cell_type": "markdown",
   "metadata": {},
   "source": [
    "# DeepPoseKit Step 3 - Train a model\n",
    "\n",
    "This is step 3 of the example notebooks for using DeepPoseKit. This notebook shows you how to use your annotated data to train a deep learning model applying data augmentation and using callbacks for logging the training process and saving the best model during training.\n",
    "\n",
    "**NOTE**: If you run into problems, you can help us improve DeepPoseKit by [opening an issue](https://github.com/jgraving/deepposekit/issues/new) or [submitting a pull request](https://help.github.com/en/articles/creating-a-pull-request-from-a-fork)\n",
    "\n",
    "**If you're using Colab**: make sure to go to the “Runtime” dropdown menu, select “Change runtime type” and select `GPU` in the \"Hardware accelerator\" drop-down menu"
   ]
  },
  {
   "cell_type": "markdown",
   "metadata": {},
   "source": [
    "If you haven't already installed DeepPoseKit you can run the next cell"
   ]
  },
  {
   "cell_type": "code",
   "execution_count": 1,
   "metadata": {
    "scrolled": true
   },
   "outputs": [
    {
     "name": "stdout",
     "output_type": "stream",
     "text": [
      "Requirement already satisfied: deepposekit in c:\\users\\advait\\anaconda3\\lib\\site-packages (0.3.9)\n",
      "Requirement already satisfied: h5py in c:\\users\\advait\\anaconda3\\lib\\site-packages (from deepposekit) (2.10.0)\n",
      "Requirement already satisfied: pyyaml in c:\\users\\advait\\anaconda3\\lib\\site-packages (from deepposekit) (5.4.1)\n",
      "Requirement already satisfied: matplotlib in c:\\users\\advait\\anaconda3\\lib\\site-packages (from deepposekit) (3.3.2)\n",
      "Requirement already satisfied: numpy in c:\\users\\advait\\anaconda3\\lib\\site-packages (from deepposekit) (1.19.5)\n",
      "Requirement already satisfied: pandas in c:\\users\\advait\\anaconda3\\lib\\site-packages (from deepposekit) (1.1.5)\n",
      "Requirement already satisfied: opencv-python in c:\\users\\advait\\anaconda3\\lib\\site-packages (from deepposekit) (4.5.1.48)\n",
      "Requirement already satisfied: imgaug>=0.2.9 in c:\\users\\advait\\anaconda3\\lib\\site-packages (from deepposekit) (0.4.0)\n",
      "Requirement already satisfied: scikit-image>=0.14.2 in c:\\users\\advait\\anaconda3\\lib\\site-packages (from imgaug>=0.2.9->deepposekit) (0.15.0)\n",
      "Requirement already satisfied: Pillow in c:\\users\\advait\\anaconda3\\lib\\site-packages (from imgaug>=0.2.9->deepposekit) (8.1.0)\n",
      "Requirement already satisfied: imageio in c:\\users\\advait\\anaconda3\\lib\\site-packages (from imgaug>=0.2.9->deepposekit) (2.9.0)\n",
      "Requirement already satisfied: six in c:\\users\\advait\\anaconda3\\lib\\site-packages (from imgaug>=0.2.9->deepposekit) (1.15.0)\n",
      "Requirement already satisfied: Shapely in c:\\users\\advait\\anaconda3\\lib\\site-packages (from imgaug>=0.2.9->deepposekit) (1.7.1)\n",
      "Requirement already satisfied: scipy in c:\\users\\advait\\anaconda3\\lib\\site-packages (from imgaug>=0.2.9->deepposekit) (1.5.2)\n",
      "Requirement already satisfied: PyWavelets>=0.4.0 in c:\\users\\advait\\anaconda3\\lib\\site-packages (from scikit-image>=0.14.2->imgaug>=0.2.9->deepposekit) (1.1.1)\n",
      "Requirement already satisfied: networkx>=2.0 in c:\\users\\advait\\anaconda3\\lib\\site-packages (from scikit-image>=0.14.2->imgaug>=0.2.9->deepposekit) (2.5)\n",
      "Requirement already satisfied: kiwisolver>=1.0.1 in c:\\users\\advait\\anaconda3\\lib\\site-packages (from matplotlib->deepposekit) (1.3.1)\n",
      "Requirement already satisfied: cycler>=0.10 in c:\\users\\advait\\anaconda3\\lib\\site-packages (from matplotlib->deepposekit) (0.10.0)\n",
      "Requirement already satisfied: python-dateutil>=2.1 in c:\\users\\advait\\anaconda3\\lib\\site-packages (from matplotlib->deepposekit) (2.8.1)\n",
      "Requirement already satisfied: pyparsing!=2.0.4,!=2.1.2,!=2.1.6,>=2.0.3 in c:\\users\\advait\\anaconda3\\lib\\site-packages (from matplotlib->deepposekit) (2.4.7)\n",
      "Requirement already satisfied: certifi>=2020.06.20 in c:\\users\\advait\\anaconda3\\lib\\site-packages (from matplotlib->deepposekit) (2020.12.5)\n",
      "Requirement already satisfied: decorator>=4.3.0 in c:\\users\\advait\\anaconda3\\lib\\site-packages (from networkx>=2.0->scikit-image>=0.14.2->imgaug>=0.2.9->deepposekit) (4.4.2)\n",
      "Requirement already satisfied: pytz>=2017.2 in c:\\users\\advait\\anaconda3\\lib\\site-packages (from pandas->deepposekit) (2021.1)\n"
     ]
    }
   ],
   "source": [
    "import sys\n",
    "!{sys.executable} -m pip install -U deepposekit"
   ]
  },
  {
   "cell_type": "code",
   "execution_count": 1,
   "metadata": {},
   "outputs": [
    {
     "data": {
      "text/plain": [
       "'2.0.0'"
      ]
     },
     "execution_count": 1,
     "metadata": {},
     "output_type": "execute_result"
    }
   ],
   "source": [
    "import tensorflow as tf\n",
    "tf.__version__"
   ]
  },
  {
   "cell_type": "code",
   "execution_count": 2,
   "metadata": {},
   "outputs": [
    {
     "data": {
      "text/plain": [
       "True"
      ]
     },
     "execution_count": 2,
     "metadata": {},
     "output_type": "execute_result"
    }
   ],
   "source": [
    "tf.test.is_gpu_available()"
   ]
  },
  {
   "cell_type": "code",
   "execution_count": 3,
   "metadata": {},
   "outputs": [
    {
     "data": {
      "text/plain": [
       "'2.0.0'"
      ]
     },
     "execution_count": 3,
     "metadata": {},
     "output_type": "execute_result"
    }
   ],
   "source": [
    "import tensorflow as tf\n",
    "tf.__version__"
   ]
  },
  {
   "cell_type": "code",
   "execution_count": 4,
   "metadata": {},
   "outputs": [
    {
     "name": "stdout",
     "output_type": "stream",
     "text": [
      "[name: \"/device:CPU:0\"\n",
      "device_type: \"CPU\"\n",
      "memory_limit: 268435456\n",
      "locality {\n",
      "}\n",
      "incarnation: 33423321864798390\n",
      ", name: \"/device:GPU:0\"\n",
      "device_type: \"GPU\"\n",
      "memory_limit: 5083824128\n",
      "locality {\n",
      "  bus_id: 1\n",
      "  links {\n",
      "  }\n",
      "}\n",
      "incarnation: 11084220551749374749\n",
      "physical_device_desc: \"device: 0, name: GeForce GTX 1060, pci bus id: 0000:01:00.0, compute capability: 6.1\"\n",
      "]\n"
     ]
    }
   ],
   "source": [
    "from tensorflow.python.client import device_lib \n",
    "print(device_lib.list_local_devices())"
   ]
  },
  {
   "cell_type": "code",
   "execution_count": 5,
   "metadata": {},
   "outputs": [
    {
     "data": {
      "text/plain": [
       "'/device:GPU:0'"
      ]
     },
     "execution_count": 5,
     "metadata": {},
     "output_type": "execute_result"
    }
   ],
   "source": [
    "tf.test.gpu_device_name()\n"
   ]
  },
  {
   "cell_type": "code",
   "execution_count": 6,
   "metadata": {},
   "outputs": [
    {
     "name": "stdout",
     "output_type": "stream",
     "text": [
      "[name: \"/device:CPU:0\"\n",
      "device_type: \"CPU\"\n",
      "memory_limit: 268435456\n",
      "locality {\n",
      "}\n",
      "incarnation: 949083972515373933\n",
      ", name: \"/device:GPU:0\"\n",
      "device_type: \"GPU\"\n",
      "memory_limit: 5083824128\n",
      "locality {\n",
      "  bus_id: 1\n",
      "  links {\n",
      "  }\n",
      "}\n",
      "incarnation: 8386165155258980591\n",
      "physical_device_desc: \"device: 0, name: GeForce GTX 1060, pci bus id: 0000:01:00.0, compute capability: 6.1\"\n",
      "]\n"
     ]
    }
   ],
   "source": [
    "from tensorflow.python.client import device_lib \n",
    "print(device_lib.list_local_devices())"
   ]
  },
  {
   "cell_type": "code",
   "execution_count": 7,
   "metadata": {
    "scrolled": true
   },
   "outputs": [],
   "source": [
    "import tensorflow as tf\n",
    "\n",
    "import numpy as np\n",
    "import matplotlib.pyplot as plt\n",
    "import glob\n",
    "\n",
    "from deepposekit.io import TrainingGenerator, DataGenerator\n",
    "from deepposekit.augment import FlipAxis\n",
    "import imgaug.augmenters as iaa\n",
    "import imgaug as ia\n",
    "\n",
    "from deepposekit.models import (StackedDenseNet,\n",
    "                                DeepLabCut,\n",
    "                                StackedHourglass,\n",
    "                                LEAP)\n",
    "from deepposekit.models import load_model\n",
    "\n",
    "from tensorflow.keras.callbacks import ReduceLROnPlateau, EarlyStopping\n",
    "\n",
    "from deepposekit.callbacks import Logger, ModelCheckpoint\n",
    "\n",
    "\n",
    "import time\n",
    "from os.path import expanduser\n",
    "\n",
    "try:\n",
    "    import google.colab\n",
    "    IN_COLAB = True\n",
    "except:\n",
    "    IN_COLAB = False\n",
    "\n",
    "HOME = expanduser(\"~\") if not IN_COLAB else '.'"
   ]
  },
  {
   "cell_type": "code",
   "execution_count": 8,
   "metadata": {},
   "outputs": [],
   "source": [
    "HOME = 'E:\\\\Work\\\\github repos\\\\deepposekit_data_custom'\n",
    "video_file_path = '\\\\human\\\\'\n",
    "video_file_name = 'pose_human_test.mp4'"
   ]
  },
  {
   "cell_type": "markdown",
   "metadata": {},
   "source": [
    "Use the next cell to download the example data into your home directory"
   ]
  },
  {
   "cell_type": "code",
   "execution_count": 11,
   "metadata": {},
   "outputs": [],
   "source": [
    "#!git clone https://github.com/jgraving/deepposekit-data {HOME + '/deepposekit-data'}"
   ]
  },
  {
   "cell_type": "markdown",
   "metadata": {},
   "source": [
    "There are a few example datasets to choose from:"
   ]
  },
  {
   "cell_type": "code",
   "execution_count": 15,
   "metadata": {},
   "outputs": [
    {
     "data": {
      "text/plain": [
       "'E:\\\\Work\\\\github repos\\\\deepposekit_data_custom\\\\human\\\\'"
      ]
     },
     "execution_count": 15,
     "metadata": {},
     "output_type": "execute_result"
    }
   ],
   "source": [
    "HOME + video_file_path"
   ]
  },
  {
   "cell_type": "code",
   "execution_count": 24,
   "metadata": {},
   "outputs": [
    {
     "data": {
      "text/plain": [
       "['E:\\\\Work\\\\github repos\\\\deepposekit_data_custom\\\\human\\\\example_annotation_set.h5']"
      ]
     },
     "execution_count": 24,
     "metadata": {},
     "output_type": "execute_result"
    }
   ],
   "source": [
    "glob.glob(HOME + video_file_path + '*annotation*.h5')"
   ]
  },
  {
   "cell_type": "markdown",
   "metadata": {},
   "source": [
    "# Create a `DataGenerator`\n",
    "This creates a `DataGenerator` for loading annotated data. You can also look at the doc string for more explanation:\n"
   ]
  },
  {
   "cell_type": "code",
   "execution_count": 11,
   "metadata": {},
   "outputs": [
    {
     "data": {
      "text/plain": [
       "\u001b[1;31mInit signature:\u001b[0m \u001b[0mDataGenerator\u001b[0m\u001b[1;33m(\u001b[0m\u001b[0mdatapath\u001b[0m\u001b[1;33m,\u001b[0m \u001b[0mdataset\u001b[0m\u001b[1;33m=\u001b[0m\u001b[1;34m'images'\u001b[0m\u001b[1;33m,\u001b[0m \u001b[0mmode\u001b[0m\u001b[1;33m=\u001b[0m\u001b[1;34m'annotated'\u001b[0m\u001b[1;33m,\u001b[0m \u001b[1;33m**\u001b[0m\u001b[0mkwargs\u001b[0m\u001b[1;33m)\u001b[0m\u001b[1;33m\u001b[0m\u001b[1;33m\u001b[0m\u001b[0m\n",
       "\u001b[1;31mDocstring:\u001b[0m     \n",
       "Creates a data generator for accessing an annotation set.\n",
       "\n",
       "Parameters\n",
       "----------\n",
       "datapath : str\n",
       "    The path to the annotations file. Must be .h5\n",
       "    e.g. '/path/to/file.h5'\n",
       "dataset : str\n",
       "    The key for the image dataset in the annotations file.\n",
       "    e.g. 'images'\n",
       "mode : str\n",
       "    The mode for loading and saving data.\n",
       "    Must be 'unannotated', 'annotated', or \"full\"\n",
       "\u001b[1;31mInit docstring:\u001b[0m\n",
       "Initializes the BaseGenerator class.\n",
       "If graph and swap_index are not defined,\n",
       "they are set to a vector of -1 corresponding\n",
       "to keypoints shape\n",
       "\u001b[1;31mFile:\u001b[0m           c:\\users\\advait\\anaconda3\\lib\\site-packages\\deepposekit\\io\\datagenerator.py\n",
       "\u001b[1;31mType:\u001b[0m           type\n",
       "\u001b[1;31mSubclasses:\u001b[0m     \n"
      ]
     },
     "metadata": {},
     "output_type": "display_data"
    }
   ],
   "source": [
    "DataGenerator?"
   ]
  },
  {
   "cell_type": "code",
   "execution_count": 25,
   "metadata": {},
   "outputs": [
    {
     "name": "stderr",
     "output_type": "stream",
     "text": [
      "C:\\Users\\Advait\\Anaconda3\\lib\\site-packages\\deepposekit\\io\\DataGenerator.py:81: H5pyDeprecationWarning: dataset.value has been deprecated. Use dataset[()] instead.\n",
      "  self.annotated = np.all(h5file[\"annotated\"].value, axis=1)\n"
     ]
    }
   ],
   "source": [
    "data_generator = DataGenerator(HOME + video_file_path + 'example_annotation_set.h5')"
   ]
  },
  {
   "cell_type": "markdown",
   "metadata": {},
   "source": [
    "Indexing the generator, e.g. `data_generator[0]` returns an image-keypoints pair, which you can then visualize. "
   ]
  },
  {
   "cell_type": "code",
   "execution_count": 26,
   "metadata": {},
   "outputs": [
    {
     "data": {
      "image/png": "[encoded data removed]",
      "text/plain": [
       "<Figure size 360x360 with 1 Axes>"
      ]
     },
     "metadata": {
      "needs_background": "light"
     },
     "output_type": "display_data"
    }
   ],
   "source": [
    "image, keypoints = data_generator[0]\n",
    "\n",
    "plt.figure(figsize=(5,5))\n",
    "image = image[0] if image.shape[-1] is 3 else image[0, ..., 0]\n",
    "cmap = None if image.shape[-1] is 3 else 'gray'\n",
    "plt.imshow(image, cmap=cmap, interpolation='none')\n",
    "for idx, jdx in enumerate(data_generator.graph):\n",
    "    if jdx > -1:\n",
    "        plt.plot(\n",
    "            [keypoints[0, idx, 0], keypoints[0, jdx, 0]],\n",
    "            [keypoints[0, idx, 1], keypoints[0, jdx, 1]],\n",
    "            'r-'\n",
    "        )\n",
    "plt.scatter(keypoints[0, :, 0], keypoints[0, :, 1], c=np.arange(data_generator.keypoints_shape[0]), s=50, cmap=plt.cm.hsv, zorder=3)\n",
    "\n",
    "plt.show()"
   ]
  },
  {
   "cell_type": "markdown",
   "metadata": {},
   "source": [
    "# Create an augmentation pipeline\n",
    "DeepPoseKit works with augmenters from the [imgaug package](https://github.com/aleju/imgaug).\n",
    "This is a short example using spatial augmentations with axis flipping and affine transforms\n",
    "See https://github.com/aleju/imgaug for more documentation on augmenters.\n",
    "\n",
    "`deepposekit.augment.FlipAxis` takes the `DataGenerator` as an argument to get the keypoint swapping information defined in the annotation set. When the images are mirrored keypoints for left and right sides are swapped to avoid \"confusing\" the model during training."
   ]
  },
  {
   "cell_type": "code",
   "execution_count": 28,
   "metadata": {},
   "outputs": [],
   "source": [
    "augmenter = []\n",
    "\n",
    "augmenter.append(FlipAxis(data_generator, axis=0))  # flip image up-down\n",
    "augmenter.append(FlipAxis(data_generator, axis=1))  # flip image left-right \n",
    "\n",
    "sometimes = []\n",
    "sometimes.append(iaa.Affine(scale={\"x\": (0.95, 1.05), \"y\": (0.95, 1.05)},\n",
    "                            translate_percent={'x': (-0.05, 0.05), 'y': (-0.05, 0.05)},\n",
    "                            shear=(-8, 8),\n",
    "                            order=ia.ALL,\n",
    "                            cval=ia.ALL,\n",
    "                            mode=ia.ALL)\n",
    "                 )\n",
    "sometimes.append(iaa.Affine(scale=(0.8, 1.2),\n",
    "                            mode=ia.ALL,\n",
    "                            order=ia.ALL,\n",
    "                            cval=ia.ALL)\n",
    "                 )\n",
    "augmenter.append(iaa.Sometimes(0.75, sometimes))\n",
    "augmenter.append(iaa.Affine(rotate=(-180, 180),\n",
    "                            mode=ia.ALL,\n",
    "                            order=ia.ALL,\n",
    "                            cval=ia.ALL)\n",
    "                 )\n",
    "augmenter = iaa.Sequential(augmenter)\n"
   ]
  },
  {
   "cell_type": "markdown",
   "metadata": {},
   "source": [
    "Load an image-keypoints pair, apply augmentation, visualize it. Rerun this cell to see multiple random augmentations."
   ]
  },
  {
   "cell_type": "code",
   "execution_count": 32,
   "metadata": {},
   "outputs": [
    {
     "data": {
      "image/png": "[encoded data removed]",
      "text/plain": [
       "<Figure size 360x360 with 1 Axes>"
      ]
     },
     "metadata": {
      "needs_background": "light"
     },
     "output_type": "display_data"
    }
   ],
   "source": [
    "image, keypoints = data_generator[0]\n",
    "image, keypoints = augmenter(images=image, keypoints=keypoints)\n",
    "plt.figure(figsize=(5,5))\n",
    "image = image[0] if image.shape[-1] is 3 else image[0, ..., 0]\n",
    "cmap = None if image.shape[-1] is 3 else 'gray'\n",
    "plt.imshow(image, cmap=cmap, interpolation='none')\n",
    "for idx, jdx in enumerate(data_generator.graph):\n",
    "    if jdx > -1:\n",
    "        plt.plot(\n",
    "            [keypoints[0, idx, 0], keypoints[0, jdx, 0]],\n",
    "            [keypoints[0, idx, 1], keypoints[0, jdx, 1]],\n",
    "            'r-'\n",
    "        )\n",
    "plt.scatter(keypoints[0, :, 0], keypoints[0, :, 1], c=np.arange(data_generator.keypoints_shape[0]), s=50, cmap=plt.cm.hsv, zorder=3)\n",
    "\n",
    "plt.show()"
   ]
  },
  {
   "cell_type": "markdown",
   "metadata": {},
   "source": [
    "# Create a `TrainingGenerator`\n",
    "This creates a `TrainingGenerator` from the `DataGenerator` for training the model with annotated data. The `TrainingGenerator` uses the `DataGenerator` to load image-keypoints pairs and then applies the augmentation and draws the confidence maps for training the model.\n",
    "\n",
    "If you're using `StackedDenseNet`, `StackedHourglass`, or `DeepLabCut` you should set `downsample_factor=2` for 1/4x outputs or `downsample_factor=3` for 1/8x outputs (1/8x is faster). Here it is set to `downsample_factor=3` to maximize speed. If you are using `LEAP` you should set the `downsample_factor=0` for 1x outputs.\n",
    "\n",
    "The `validation_split` argument defines how many training examples to use for validation during training. If your dataset is small (such as initial annotations for active learning), you can set this to `validation_split=0`, which will just use the training set for model fitting. However, when using callbacks, make sure to set `monitor=\"loss\"` instead of `monitor=\"val_loss\"`.\n",
    "\n",
    "Visualizing the outputs in the next section also works best with `downsample_factor=0`.\n",
    "\n",
    "You can also look at the doc string for more explanation:\n"
   ]
  },
  {
   "cell_type": "code",
   "execution_count": 33,
   "metadata": {},
   "outputs": [
    {
     "data": {
      "text/plain": [
       "\u001b[1;31mInit signature:\u001b[0m\n",
       "\u001b[0mTrainingGenerator\u001b[0m\u001b[1;33m(\u001b[0m\u001b[1;33m\n",
       "\u001b[0m    \u001b[0mgenerator\u001b[0m\u001b[1;33m,\u001b[0m\u001b[1;33m\n",
       "\u001b[0m    \u001b[0mdownsample_factor\u001b[0m\u001b[1;33m=\u001b[0m\u001b[1;36m2\u001b[0m\u001b[1;33m,\u001b[0m\u001b[1;33m\n",
       "\u001b[0m    \u001b[0muse_graph\u001b[0m\u001b[1;33m=\u001b[0m\u001b[1;32mTrue\u001b[0m\u001b[1;33m,\u001b[0m\u001b[1;33m\n",
       "\u001b[0m    \u001b[0maugmenter\u001b[0m\u001b[1;33m=\u001b[0m\u001b[1;32mNone\u001b[0m\u001b[1;33m,\u001b[0m\u001b[1;33m\n",
       "\u001b[0m    \u001b[0mshuffle\u001b[0m\u001b[1;33m=\u001b[0m\u001b[1;32mTrue\u001b[0m\u001b[1;33m,\u001b[0m\u001b[1;33m\n",
       "\u001b[0m    \u001b[0msigma\u001b[0m\u001b[1;33m=\u001b[0m\u001b[1;36m5\u001b[0m\u001b[1;33m,\u001b[0m\u001b[1;33m\n",
       "\u001b[0m    \u001b[0mvalidation_split\u001b[0m\u001b[1;33m=\u001b[0m\u001b[1;36m0.0\u001b[0m\u001b[1;33m,\u001b[0m\u001b[1;33m\n",
       "\u001b[0m    \u001b[0mgraph_scale\u001b[0m\u001b[1;33m=\u001b[0m\u001b[1;36m1.0\u001b[0m\u001b[1;33m,\u001b[0m\u001b[1;33m\n",
       "\u001b[0m    \u001b[0mrandom_seed\u001b[0m\u001b[1;33m=\u001b[0m\u001b[1;32mNone\u001b[0m\u001b[1;33m,\u001b[0m\u001b[1;33m\n",
       "\u001b[0m\u001b[1;33m)\u001b[0m\u001b[1;33m\u001b[0m\u001b[1;33m\u001b[0m\u001b[0m\n",
       "\u001b[1;31mDocstring:\u001b[0m     \n",
       "Generates data for training a model.\n",
       "\n",
       "Automatically loads annotated data and produces\n",
       "augmented images and confidence maps for each keypoint.\n",
       "\n",
       "Parameters\n",
       "----------\n",
       "generator: deepposekit.io.BaseGenerator\n",
       "    An instance of BaseGenerator (deepposekit.io.BaseGenerator) object.\n",
       "    The output of the generator must be `(images, keypoints)`, where images\n",
       "    are a numpy array of shape (n_images, height, width, channels), and \n",
       "    keypoints are a numpy array of shape (n_images, n_keypoints, 2), where\n",
       "    2 is the row, column coordinates of the keypoints in each image.\n",
       "downsample_factor : int, default = 0\n",
       "    The factor for determining the output shape of the confidence\n",
       "    maps for estimating keypoints. This is determined as\n",
       "    shape // 2**downsample_factor. The default is 0, which\n",
       "    produces confidence maps that are the same shape\n",
       "    as the input images.\n",
       "use_graph : bool, default = True\n",
       "    Whether to generate confidence maps for the parent graph\n",
       "    as lines drawn between connected keypoints. This can help reduce\n",
       "    keypoint estimation error when training the network.\n",
       "augmenter : class or list, default = None\n",
       "    A imgaug.Augmenter, or list of imgaug.Augmenter\n",
       "    for applying augmentations to images and keypoints.\n",
       "    Default is None, which applies no augmentations.\n",
       "shuffle : bool, default = True\n",
       "    Whether to randomly shuffle the data.\n",
       "sigma : float, default = 3\n",
       "    The standard deviation of the Gaussian confidence peaks.\n",
       "    This is scaled to sigma // 2**downsample_factor.\n",
       "validation_split : float, default = 0.0\n",
       "    Float between 0 and 1. Fraction of the training data to be used\n",
       "    as validation data. The generator will set apart this fraction\n",
       "    of the training data, will not generate this data unless\n",
       "    the `validation` flag is set to True when the class is called.\n",
       "graph_scale : float, default = 1.0\n",
       "    Float between 0 and 1. A factor to scale the edge\n",
       "    confidence map values to y * edge_scale.\n",
       "    The default is 1.0 which does not scale the confidence\n",
       "    values. This is useful for preventing the edge channels\n",
       "    from dominating the error when training a smaller network.\n",
       "    This arg is not used when `use_graph` is set to False.\n",
       "random_seed : int, default = None\n",
       "    set random seed for selecting validation data\n",
       "\u001b[1;31mFile:\u001b[0m           c:\\users\\advait\\anaconda3\\lib\\site-packages\\deepposekit\\io\\traininggenerator.py\n",
       "\u001b[1;31mType:\u001b[0m           type\n",
       "\u001b[1;31mSubclasses:\u001b[0m     \n"
      ]
     },
     "metadata": {},
     "output_type": "display_data"
    }
   ],
   "source": [
    "TrainingGenerator?"
   ]
  },
  {
   "cell_type": "code",
   "execution_count": 34,
   "metadata": {
    "scrolled": true
   },
   "outputs": [
    {
     "name": "stderr",
     "output_type": "stream",
     "text": [
      "C:\\Users\\Advait\\Anaconda3\\lib\\site-packages\\deepposekit\\io\\TrainingGenerator.py:176: UserWarning: `n_validation` is 0. Increase `validation_split` to use a validation set.\n",
      "  \"`n_validation` is 0. Increase `validation_split` to use a validation set.\"\n"
     ]
    },
    {
     "data": {
      "text/plain": [
       "{'n_train': 5,\n",
       " 'n_validation': 0,\n",
       " 'validation_split': 0.1,\n",
       " 'downsample_factor': 3,\n",
       " 'output_shape': (90, 160),\n",
       " 'n_output_channels': 16,\n",
       " 'shuffle': True,\n",
       " 'sigma': 5,\n",
       " 'output_sigma': 0.625,\n",
       " 'use_graph': True,\n",
       " 'graph_scale': 1,\n",
       " 'random_seed': 1,\n",
       " 'augmenter': True,\n",
       " 'datapath': 'E:\\\\Work\\\\github repos\\\\deepposekit_data_custom\\\\human\\\\example_annotation_set.h5',\n",
       " 'dataset': 'images',\n",
       " 'generator': 'DataGenerator',\n",
       " 'n_samples': 5,\n",
       " 'image_shape': (720, 1280, 1),\n",
       " 'keypoints_shape': (7, 2)}"
      ]
     },
     "execution_count": 34,
     "metadata": {},
     "output_type": "execute_result"
    }
   ],
   "source": [
    "train_generator = TrainingGenerator(generator=data_generator,\n",
    "                                    downsample_factor=3,\n",
    "                                    augmenter=augmenter,\n",
    "                                    sigma=5,\n",
    "                                    validation_split=0.1, \n",
    "                                    use_graph=True,\n",
    "                                    random_seed=1,\n",
    "                                    graph_scale=1)\n",
    "train_generator.get_config()"
   ]
  },
  {
   "cell_type": "markdown",
   "metadata": {},
   "source": [
    "# Check the `TrainingGenerator` output\n",
    "This plots the training data output from the `TrainingGenerator` to ensure that the augmentation is working and the confidence maps look good. Rerun this cell to see random augmentations. "
   ]
  },
  {
   "cell_type": "code",
   "execution_count": 35,
   "metadata": {},
   "outputs": [
    {
     "name": "stderr",
     "output_type": "stream",
     "text": [
      "C:\\Users\\Advait\\Anaconda3\\lib\\site-packages\\imgaug\\imgaug.py:184: DeprecationWarning: Method `Sequential.reseed()` is deprecated. Use `imgaug.augmenters.meta.Augmenter.seed_` instead.\n",
      "  warn_deprecated(msg, stacklevel=3)\n"
     ]
    },
    {
     "data": {
      "image/png": "[encoded data removed]",
      "text/plain": [
       "<Figure size 720x720 with 4 Axes>"
      ]
     },
     "metadata": {
      "needs_background": "light"
     },
     "output_type": "display_data"
    }
   ],
   "source": [
    "n_keypoints = data_generator.keypoints_shape[0]\n",
    "batch = train_generator(batch_size=1, validation=False)[0]\n",
    "inputs = batch[0]\n",
    "outputs = batch[1]\n",
    "\n",
    "fig, ((ax1, ax2), (ax3, ax4)) = plt.subplots(2, 2, figsize=(10,10))\n",
    "ax1.set_title('image')\n",
    "ax1.imshow(inputs[0,...,0], cmap='gray', vmin=0, vmax=255)\n",
    "\n",
    "ax2.set_title('posture graph')\n",
    "ax2.imshow(outputs[0,...,n_keypoints:-1].max(-1))\n",
    "\n",
    "ax3.set_title('keypoints confidence')\n",
    "ax3.imshow(outputs[0,...,:n_keypoints].max(-1))\n",
    "\n",
    "ax4.set_title('posture graph and keypoints confidence')\n",
    "ax4.imshow(outputs[0,...,-1], vmin=0)\n",
    "plt.show()\n",
    "\n",
    "train_generator.on_epoch_end()"
   ]
  },
  {
   "cell_type": "markdown",
   "metadata": {},
   "source": [
    "# Define a model\n",
    "Here you can define a model to train with your data. You can use our `StackedDenseNet` model, `StackedHourglass` model, `DeepLabCut` model, or the `LEAP` model. The default settings for each model should work well for most datasets, but you can customize the model architecture. The `DeepLabCut` model has multiple pretrained (on ImageNet) backbones available for using transfer learning, including the original ResNet50 (He et al. 2015)  as well as the faster MobileNetV2 (Sandler et al. 2018; see  also Mathis et al. 2019) and DenseNet121 (Huang et al. 2017). We'll select `StackedDenseNet` and set `n_stacks=2` for 2 hourglasses, with `growth_rate=32` (32 filters per convolution). Adjust the `growth_rate` and/or `n_stacks` to change model performance (and speed). You can also set `pretrained=True` to use transfer learning with `StackedDenseNet`, which uses a DenseNet121 pretrained on ImageNet to encode the images."
   ]
  },
  {
   "cell_type": "code",
   "execution_count": 36,
   "metadata": {},
   "outputs": [],
   "source": [
    "from deepposekit.models import DeepLabCut, StackedDenseNet, StackedHourglass, LEAP"
   ]
  },
  {
   "cell_type": "markdown",
   "metadata": {},
   "source": [
    "You can also look at the doc strings for any of the models to get more information:"
   ]
  },
  {
   "cell_type": "code",
   "execution_count": 38,
   "metadata": {},
   "outputs": [
    {
     "data": {
      "text/plain": [
       "\u001b[1;31mInit signature:\u001b[0m\n",
       "\u001b[0mStackedDenseNet\u001b[0m\u001b[1;33m(\u001b[0m\u001b[1;33m\n",
       "\u001b[0m    \u001b[0mtrain_generator\u001b[0m\u001b[1;33m,\u001b[0m\u001b[1;33m\n",
       "\u001b[0m    \u001b[0mn_stacks\u001b[0m\u001b[1;33m=\u001b[0m\u001b[1;36m1\u001b[0m\u001b[1;33m,\u001b[0m\u001b[1;33m\n",
       "\u001b[0m    \u001b[0mn_transitions\u001b[0m\u001b[1;33m=\u001b[0m\u001b[1;33m-\u001b[0m\u001b[1;36m1\u001b[0m\u001b[1;33m,\u001b[0m\u001b[1;33m\n",
       "\u001b[0m    \u001b[0mgrowth_rate\u001b[0m\u001b[1;33m=\u001b[0m\u001b[1;36m48\u001b[0m\u001b[1;33m,\u001b[0m\u001b[1;33m\n",
       "\u001b[0m    \u001b[0mbottleneck_factor\u001b[0m\u001b[1;33m=\u001b[0m\u001b[1;36m1\u001b[0m\u001b[1;33m,\u001b[0m\u001b[1;33m\n",
       "\u001b[0m    \u001b[0mcompression_factor\u001b[0m\u001b[1;33m=\u001b[0m\u001b[1;36m0.5\u001b[0m\u001b[1;33m,\u001b[0m\u001b[1;33m\n",
       "\u001b[0m    \u001b[0mpretrained\u001b[0m\u001b[1;33m=\u001b[0m\u001b[1;32mFalse\u001b[0m\u001b[1;33m,\u001b[0m\u001b[1;33m\n",
       "\u001b[0m    \u001b[0msubpixel\u001b[0m\u001b[1;33m=\u001b[0m\u001b[1;32mTrue\u001b[0m\u001b[1;33m,\u001b[0m\u001b[1;33m\n",
       "\u001b[0m    \u001b[1;33m**\u001b[0m\u001b[0mkwargs\u001b[0m\u001b[1;33m,\u001b[0m\u001b[1;33m\n",
       "\u001b[0m\u001b[1;33m)\u001b[0m\u001b[1;33m\u001b[0m\u001b[1;33m\u001b[0m\u001b[0m\n",
       "\u001b[1;31mDocstring:\u001b[0m      <no docstring>\n",
       "\u001b[1;31mInit docstring:\u001b[0m\n",
       "Define a Stacked DenseNet model from Graving et al. [1]\n",
       "for pose estimation.\n",
       "This model combines elements from [2-5]\n",
       "See `References` for details on the model architecture.\n",
       "\n",
       "Parameters\n",
       "----------\n",
       "train_generator : class deepposekit.io.TrainingGenerator\n",
       "    A deepposekit.io.TrainingGenerator class for generating\n",
       "    images and confidence maps.\n",
       "n_stacks : int, default = 1\n",
       "    The number of encoder-decoder networks to stack\n",
       "    with intermediate supervision between stacks\n",
       "n_transitions : int, default = -1\n",
       "    The number of transition layers (downsampling and upsampling)\n",
       "    in each encoder-decoder stack. If value is <0\n",
       "    the number of transitions will be automatically set\n",
       "    based on image size as the maximum number of possible\n",
       "    transitions minus n_transitions plus 1, or:\n",
       "    n_transitions = max_transitions - n_transitions + 1.\n",
       "    The default is -1, which uses the maximum number of\n",
       "    transitions possible.\n",
       "growth_rate : int, default = 48\n",
       "    The number of channels to output from each convolutional\n",
       "    block.\n",
       "bottleneck_factor : int, default = 1\n",
       "    The factor for determining the number of input channels\n",
       "    to 3x3 convolutional layer in each convolutional block.\n",
       "    Inputs are first passed through a 1x1 convolutional layer to\n",
       "    reduce the number of channels to:\n",
       "    growth_rate * bottleneck_factor\n",
       "compression_factor : int, default = 0.5\n",
       "    The factor for determining the number of channels passed\n",
       "    through a transition layer (downsampling or upsampling).\n",
       "    Inputs are first passed through a 1x1 convolutional layer\n",
       "    to reduce the number of channels to\n",
       "    n_input_channels * compression_factor\n",
       "pretrained : bool, default = False\n",
       "    Whether to use an encoder that is pretrained on ImageNet\n",
       "subpixel: bool, default = True\n",
       "    Whether to use subpixel maxima for calculating\n",
       "    keypoint coordinates in the prediction model.\n",
       "\n",
       "Attributes\n",
       "-------\n",
       "train_model: keras.Model\n",
       "    A model for training the network to produce confidence maps with\n",
       "    one input layer for images and `n_outputs` output layers for training\n",
       "    with intermediate supervision\n",
       "predict_model: keras.Model\n",
       "    A model for predicting keypoint coordinates with one input and one output\n",
       "    using with Maxima2D or SubpixelMaxima2D layers at the output of the network.\n",
       "\n",
       "Both of these models share the same computational graph, so training train_model\n",
       "updates the weights of predict_model\n",
       "\n",
       "References\n",
       "----------\n",
       "1.  Graving, J.M., Chae, D., Naik, H., Li, L., Koger, B., Costelloe, B.R.,\n",
       "    Couzin, I.D. (2019) DeepPoseKit, a software toolkit for fast and robust\n",
       "    animal pose estimation using deep learning. eLife, 8, e47994\n",
       "2.  Jégou, S., Drozdzal, M., Vazquez, D., Romero, A., & Bengio, Y. (2017).\n",
       "    The one hundred layers tiramisu: Fully convolutional densenets for\n",
       "    semantic segmentation. In Computer Vision and Pattern Recognition\n",
       "    Workshops (CVPRW), 2017 IEEE Conference on (pp. 1175-1183). IEEE.\n",
       "3.  Newell, A., Yang, K., & Deng, J. (2016). Stacked hourglass networks\n",
       "    for human pose estimation. In European Conference on Computer\n",
       "    Vision (pp. 483-499). Springer, Cham.\n",
       "4.  Huang, G., Liu, Z., Weinberger, K. Q., & van der Maaten, L. (2017).\n",
       "    Densely connected convolutional networks. In Proceedings of the IEEE\n",
       "    conference on computer vision and pattern recognition\n",
       "    (Vol. 1, No. 2, p. 3).\n",
       "5.  Klambauer, G., Unterthiner, T., Mayr, A., & Hochreiter, S. (2017).\n",
       "    Self-normalizing neural networks. In Advances in Neural Information\n",
       "    Processing Systems (pp. 972-981).\n",
       "\u001b[1;31mFile:\u001b[0m           c:\\users\\advait\\anaconda3\\lib\\site-packages\\deepposekit\\models\\stackeddensenet.py\n",
       "\u001b[1;31mType:\u001b[0m           type\n",
       "\u001b[1;31mSubclasses:\u001b[0m     \n"
      ]
     },
     "metadata": {},
     "output_type": "display_data"
    }
   ],
   "source": [
    "StackedDenseNet?"
   ]
  },
  {
   "cell_type": "code",
   "execution_count": 39,
   "metadata": {},
   "outputs": [
    {
     "data": {
      "text/plain": [
       "\u001b[1;31mInit signature:\u001b[0m\n",
       "\u001b[0mDeepLabCut\u001b[0m\u001b[1;33m(\u001b[0m\u001b[1;33m\n",
       "\u001b[0m    \u001b[0mtrain_generator\u001b[0m\u001b[1;33m,\u001b[0m\u001b[1;33m\n",
       "\u001b[0m    \u001b[0msubpixel\u001b[0m\u001b[1;33m=\u001b[0m\u001b[1;32mTrue\u001b[0m\u001b[1;33m,\u001b[0m\u001b[1;33m\n",
       "\u001b[0m    \u001b[0mweights\u001b[0m\u001b[1;33m=\u001b[0m\u001b[1;34m'imagenet'\u001b[0m\u001b[1;33m,\u001b[0m\u001b[1;33m\n",
       "\u001b[0m    \u001b[0mbackbone\u001b[0m\u001b[1;33m=\u001b[0m\u001b[1;34m'resnet50'\u001b[0m\u001b[1;33m,\u001b[0m\u001b[1;33m\n",
       "\u001b[0m    \u001b[0malpha\u001b[0m\u001b[1;33m=\u001b[0m\u001b[1;36m1.0\u001b[0m\u001b[1;33m,\u001b[0m\u001b[1;33m\n",
       "\u001b[0m    \u001b[1;33m**\u001b[0m\u001b[0mkwargs\u001b[0m\u001b[1;33m,\u001b[0m\u001b[1;33m\n",
       "\u001b[0m\u001b[1;33m)\u001b[0m\u001b[1;33m\u001b[0m\u001b[1;33m\u001b[0m\u001b[0m\n",
       "\u001b[1;31mDocstring:\u001b[0m     \n",
       "Define a DeepLabCut model from Mathis et al., 2018 [1–4]\n",
       "including MobileNetV2 backend from [4].\n",
       "See `References` for details on the model architecture.\n",
       "\n",
       "Parameters\n",
       "----------\n",
       "train_generator : class deepposekit.io.TrainingGenerator\n",
       "    A deepposekit.io.TrainingGenerator class for generating\n",
       "    images and confidence maps.\n",
       "subpixel: bool, default = True\n",
       "    Whether to use subpixel maxima for calculating\n",
       "    keypoint coordinates in the prediction model.\n",
       "weights: \"imagnet\" or None, default is \"imagenet\"\n",
       "    Which weights to use for initialization. \"imagenet\" uses\n",
       "    weights pretrained on imagenet. None uses randomly initialized\n",
       "    weights.\n",
       "backbone: string, default is \"resnet50\"\n",
       "    pretrained backbone network to use. Must be one of ['resnet50', 'resnet101', 'resnet152', 'mobilenetv2', 'densenet121', 'densenet169', 'densenet201', 'xception']. See [3].\n",
       "alpha: float, default is 1.0\n",
       "    Which MobileNetV2 to use. Must be one of:\n",
       "    [0.35, 0.5, 0.75, 1.0, 1.3, 1.4]\n",
       "    Not used if backbone is not \"mobilenetv2\".\n",
       "\n",
       "Attributes\n",
       "-------\n",
       "train_model: keras.Model\n",
       "    A model for training the network to produce confidence maps with\n",
       "    one input layer for images\n",
       "predict_model: keras.Model\n",
       "    A model for predicting keypoint coordinates using with Maxima2D or\n",
       "    SubpixelMaxima2D layers at the output of the network.\n",
       "\n",
       "Both of these models share the same computational graph,\n",
       "so training train_model updates the weights of predict_model\n",
       "\n",
       "References\n",
       "----------\n",
       "1.  Insafutdinov, E., Pishchulin, L., Andres, B., Andriluka, M., & Schiele, B.\n",
       "    (2016). Deepercut: A deeper, stronger, and faster multi-person pose estimation\n",
       "    model. In European Conference on Computer Vision (pp. 34-50). Springer, Cham.\n",
       "2.  Mathis, A., Mamidanna, P., Cury, K. M., Abe, T., Murthy, V. N.,\n",
       "    Mathis, M. W., & Bethge, M. (2018). DeepLabCut: markerless pose\n",
       "    estimation of user-defined body parts with deep learning (p. 1).\n",
       "    Nature Publishing Group.\n",
       "3.  Nath, T., Mathis, A., Chen, A. C., Patel, A., Bethge, M.,\n",
       "    & Mathis, M. W. (2019). Using DeepLabCut for 3D markerless\n",
       "    pose estimation across species and behaviors. Nature protocols,\n",
       "    14(7), 2152-2176.\n",
       "4.  Mathis, A., Yuksekgonol, M., Rogers, B., Bethge, M., Mathis, M. (2019).\n",
       "    Pretraining boosts out-of-domain-robustness for pose estimation.\n",
       "    arXiv cs.CV https://arxiv.org/abs/1909.11229\n",
       "\u001b[1;31mFile:\u001b[0m           c:\\users\\advait\\anaconda3\\lib\\site-packages\\deepposekit\\models\\deeplabcut.py\n",
       "\u001b[1;31mType:\u001b[0m           type\n",
       "\u001b[1;31mSubclasses:\u001b[0m     \n"
      ]
     },
     "metadata": {},
     "output_type": "display_data"
    }
   ],
   "source": [
    "DeepLabCut?"
   ]
  },
  {
   "cell_type": "code",
   "execution_count": 40,
   "metadata": {},
   "outputs": [
    {
     "data": {
      "text/plain": [
       "{'name': 'StackedDenseNet',\n",
       " 'n_stacks': 2,\n",
       " 'n_transitions': 4,\n",
       " 'growth_rate': 32,\n",
       " 'bottleneck_factor': 1,\n",
       " 'compression_factor': 0.5,\n",
       " 'pretrained': True,\n",
       " 'subpixel': True,\n",
       " 'n_train': 5,\n",
       " 'n_validation': 0,\n",
       " 'validation_split': 0.1,\n",
       " 'downsample_factor': 3,\n",
       " 'output_shape': (90, 160),\n",
       " 'n_output_channels': 16,\n",
       " 'shuffle': True,\n",
       " 'sigma': 5,\n",
       " 'output_sigma': 0.625,\n",
       " 'use_graph': True,\n",
       " 'graph_scale': 1,\n",
       " 'random_seed': 1,\n",
       " 'augmenter': True,\n",
       " 'datapath': 'E:\\\\Work\\\\github repos\\\\deepposekit_data_custom\\\\human\\\\example_annotation_set.h5',\n",
       " 'dataset': 'images',\n",
       " 'generator': 'DataGenerator',\n",
       " 'n_samples': 5,\n",
       " 'image_shape': (720, 1280, 1),\n",
       " 'keypoints_shape': (7, 2)}"
      ]
     },
     "execution_count": 40,
     "metadata": {},
     "output_type": "execute_result"
    }
   ],
   "source": [
    "model = StackedDenseNet(train_generator, n_stacks=2, growth_rate=32, pretrained=True)\n",
    "\n",
    "#model = DeepLabCut(train_generator, backbone=\"resnet50\")\n",
    "#model = DeepLabCut(train_generator, backbone=\"mobilenetv2\", alpha=0.35) # Increase alpha to improve accuracy\n",
    "#model = DeepLabCut(train_generator, backbone=\"densenet121\")\n",
    "\n",
    "#model = LEAP(train_generator)\n",
    "#model = StackedHourglass(train_generator)\n",
    "\n",
    "model.get_config()"
   ]
  },
  {
   "cell_type": "markdown",
   "metadata": {},
   "source": [
    "# Test the prediction speed\n",
    "This generates a random set of input images for the model to test how fast the model can predict keypoint locations."
   ]
  },
  {
   "cell_type": "code",
   "execution_count": 42,
   "metadata": {},
   "outputs": [
    {
     "ename": "ResourceExhaustedError",
     "evalue": " OOM when allocating tensor with shape[100,64,360,640] and type float on /job:localhost/replica:0/task:0/device:GPU:0 by allocator GPU_0_bfc\n\t [[node StackedDenseNet/densenet121/conv1/conv/Conv2D (defined at C:\\Users\\Advait\\Anaconda3\\lib\\site-packages\\tensorflow_core\\python\\framework\\ops.py:1751) ]]\nHint: If you want to see a list of allocated tensors when OOM happens, add report_tensor_allocations_upon_oom to RunOptions for current allocation info.\n [Op:__inference_keras_scratch_graph_24889]\n\nFunction call stack:\nkeras_scratch_graph\n",
     "output_type": "error",
     "traceback": [
      "\u001b[1;31m---------------------------------------------------------------------------\u001b[0m",
      "\u001b[1;31mResourceExhaustedError\u001b[0m                    Traceback (most recent call last)",
      "\u001b[1;32m<ipython-input-42-9ca45318fc34>\u001b[0m in \u001b[0;36m<module>\u001b[1;34m\u001b[0m\n\u001b[0;32m      3\u001b[0m \u001b[0my\u001b[0m \u001b[1;33m=\u001b[0m \u001b[0mmodel\u001b[0m\u001b[1;33m.\u001b[0m\u001b[0mpredict\u001b[0m\u001b[1;33m(\u001b[0m\u001b[0mx\u001b[0m\u001b[1;33m[\u001b[0m\u001b[1;33m:\u001b[0m\u001b[1;36m100\u001b[0m\u001b[1;33m]\u001b[0m\u001b[1;33m,\u001b[0m \u001b[0mbatch_size\u001b[0m\u001b[1;33m=\u001b[0m\u001b[1;36m20\u001b[0m\u001b[1;33m)\u001b[0m \u001b[1;31m# make sure the model is in GPU memory\u001b[0m\u001b[1;33m\u001b[0m\u001b[1;33m\u001b[0m\u001b[0m\n\u001b[0;32m      4\u001b[0m \u001b[0mt0\u001b[0m \u001b[1;33m=\u001b[0m \u001b[0mtime\u001b[0m\u001b[1;33m.\u001b[0m\u001b[0mtime\u001b[0m\u001b[1;33m(\u001b[0m\u001b[1;33m)\u001b[0m\u001b[1;33m\u001b[0m\u001b[1;33m\u001b[0m\u001b[0m\n\u001b[1;32m----> 5\u001b[1;33m \u001b[0my\u001b[0m \u001b[1;33m=\u001b[0m \u001b[0mmodel\u001b[0m\u001b[1;33m.\u001b[0m\u001b[0mpredict\u001b[0m\u001b[1;33m(\u001b[0m\u001b[0mx\u001b[0m\u001b[1;33m,\u001b[0m \u001b[0mbatch_size\u001b[0m\u001b[1;33m=\u001b[0m\u001b[1;36m100\u001b[0m\u001b[1;33m,\u001b[0m \u001b[0mverbose\u001b[0m\u001b[1;33m=\u001b[0m\u001b[1;36m1\u001b[0m\u001b[1;33m)\u001b[0m\u001b[1;33m\u001b[0m\u001b[1;33m\u001b[0m\u001b[0m\n\u001b[0m\u001b[0;32m      6\u001b[0m \u001b[0mt1\u001b[0m \u001b[1;33m=\u001b[0m \u001b[0mtime\u001b[0m\u001b[1;33m.\u001b[0m\u001b[0mtime\u001b[0m\u001b[1;33m(\u001b[0m\u001b[1;33m)\u001b[0m\u001b[1;33m\u001b[0m\u001b[1;33m\u001b[0m\u001b[0m\n\u001b[0;32m      7\u001b[0m \u001b[0mprint\u001b[0m\u001b[1;33m(\u001b[0m\u001b[0mx\u001b[0m\u001b[1;33m.\u001b[0m\u001b[0mshape\u001b[0m\u001b[1;33m[\u001b[0m\u001b[1;36m0\u001b[0m\u001b[1;33m]\u001b[0m \u001b[1;33m/\u001b[0m \u001b[1;33m(\u001b[0m\u001b[0mt1\u001b[0m \u001b[1;33m-\u001b[0m \u001b[0mt0\u001b[0m\u001b[1;33m)\u001b[0m\u001b[1;33m)\u001b[0m\u001b[1;33m\u001b[0m\u001b[1;33m\u001b[0m\u001b[0m\n",
      "\u001b[1;32m~\\Anaconda3\\lib\\site-packages\\tensorflow_core\\python\\keras\\engine\\training.py\u001b[0m in \u001b[0;36mpredict\u001b[1;34m(self, x, batch_size, verbose, steps, callbacks, max_queue_size, workers, use_multiprocessing)\u001b[0m\n\u001b[0;32m    907\u001b[0m         \u001b[0mmax_queue_size\u001b[0m\u001b[1;33m=\u001b[0m\u001b[0mmax_queue_size\u001b[0m\u001b[1;33m,\u001b[0m\u001b[1;33m\u001b[0m\u001b[1;33m\u001b[0m\u001b[0m\n\u001b[0;32m    908\u001b[0m         \u001b[0mworkers\u001b[0m\u001b[1;33m=\u001b[0m\u001b[0mworkers\u001b[0m\u001b[1;33m,\u001b[0m\u001b[1;33m\u001b[0m\u001b[1;33m\u001b[0m\u001b[0m\n\u001b[1;32m--> 909\u001b[1;33m         use_multiprocessing=use_multiprocessing)\n\u001b[0m\u001b[0;32m    910\u001b[0m \u001b[1;33m\u001b[0m\u001b[0m\n\u001b[0;32m    911\u001b[0m   \u001b[1;32mdef\u001b[0m \u001b[0mreset_metrics\u001b[0m\u001b[1;33m(\u001b[0m\u001b[0mself\u001b[0m\u001b[1;33m)\u001b[0m\u001b[1;33m:\u001b[0m\u001b[1;33m\u001b[0m\u001b[1;33m\u001b[0m\u001b[0m\n",
      "\u001b[1;32m~\\Anaconda3\\lib\\site-packages\\tensorflow_core\\python\\keras\\engine\\training_arrays.py\u001b[0m in \u001b[0;36mpredict\u001b[1;34m(self, model, x, batch_size, verbose, steps, callbacks, **kwargs)\u001b[0m\n\u001b[0;32m    720\u001b[0m         \u001b[0mverbose\u001b[0m\u001b[1;33m=\u001b[0m\u001b[0mverbose\u001b[0m\u001b[1;33m,\u001b[0m\u001b[1;33m\u001b[0m\u001b[1;33m\u001b[0m\u001b[0m\n\u001b[0;32m    721\u001b[0m         \u001b[0msteps\u001b[0m\u001b[1;33m=\u001b[0m\u001b[0msteps\u001b[0m\u001b[1;33m,\u001b[0m\u001b[1;33m\u001b[0m\u001b[1;33m\u001b[0m\u001b[0m\n\u001b[1;32m--> 722\u001b[1;33m         callbacks=callbacks)\n\u001b[0m",
      "\u001b[1;32m~\\Anaconda3\\lib\\site-packages\\tensorflow_core\\python\\keras\\engine\\training_arrays.py\u001b[0m in \u001b[0;36mmodel_iteration\u001b[1;34m(model, inputs, targets, sample_weights, batch_size, epochs, verbose, callbacks, val_inputs, val_targets, val_sample_weights, shuffle, initial_epoch, steps_per_epoch, validation_steps, validation_freq, mode, validation_in_fit, prepared_feed_values_from_dataset, steps_name, **kwargs)\u001b[0m\n\u001b[0;32m    391\u001b[0m \u001b[1;33m\u001b[0m\u001b[0m\n\u001b[0;32m    392\u001b[0m         \u001b[1;31m# Get outputs.\u001b[0m\u001b[1;33m\u001b[0m\u001b[1;33m\u001b[0m\u001b[1;33m\u001b[0m\u001b[0m\n\u001b[1;32m--> 393\u001b[1;33m         \u001b[0mbatch_outs\u001b[0m \u001b[1;33m=\u001b[0m \u001b[0mf\u001b[0m\u001b[1;33m(\u001b[0m\u001b[0mins_batch\u001b[0m\u001b[1;33m)\u001b[0m\u001b[1;33m\u001b[0m\u001b[1;33m\u001b[0m\u001b[0m\n\u001b[0m\u001b[0;32m    394\u001b[0m         \u001b[1;32mif\u001b[0m \u001b[1;32mnot\u001b[0m \u001b[0misinstance\u001b[0m\u001b[1;33m(\u001b[0m\u001b[0mbatch_outs\u001b[0m\u001b[1;33m,\u001b[0m \u001b[0mlist\u001b[0m\u001b[1;33m)\u001b[0m\u001b[1;33m:\u001b[0m\u001b[1;33m\u001b[0m\u001b[1;33m\u001b[0m\u001b[0m\n\u001b[0;32m    395\u001b[0m           \u001b[0mbatch_outs\u001b[0m \u001b[1;33m=\u001b[0m \u001b[1;33m[\u001b[0m\u001b[0mbatch_outs\u001b[0m\u001b[1;33m]\u001b[0m\u001b[1;33m\u001b[0m\u001b[1;33m\u001b[0m\u001b[0m\n",
      "\u001b[1;32m~\\Anaconda3\\lib\\site-packages\\tensorflow_core\\python\\keras\\backend.py\u001b[0m in \u001b[0;36m__call__\u001b[1;34m(self, inputs)\u001b[0m\n\u001b[0;32m   3738\u001b[0m         \u001b[0mvalue\u001b[0m \u001b[1;33m=\u001b[0m \u001b[0mmath_ops\u001b[0m\u001b[1;33m.\u001b[0m\u001b[0mcast\u001b[0m\u001b[1;33m(\u001b[0m\u001b[0mvalue\u001b[0m\u001b[1;33m,\u001b[0m \u001b[0mtensor\u001b[0m\u001b[1;33m.\u001b[0m\u001b[0mdtype\u001b[0m\u001b[1;33m)\u001b[0m\u001b[1;33m\u001b[0m\u001b[1;33m\u001b[0m\u001b[0m\n\u001b[0;32m   3739\u001b[0m       \u001b[0mconverted_inputs\u001b[0m\u001b[1;33m.\u001b[0m\u001b[0mappend\u001b[0m\u001b[1;33m(\u001b[0m\u001b[0mvalue\u001b[0m\u001b[1;33m)\u001b[0m\u001b[1;33m\u001b[0m\u001b[1;33m\u001b[0m\u001b[0m\n\u001b[1;32m-> 3740\u001b[1;33m     \u001b[0moutputs\u001b[0m \u001b[1;33m=\u001b[0m \u001b[0mself\u001b[0m\u001b[1;33m.\u001b[0m\u001b[0m_graph_fn\u001b[0m\u001b[1;33m(\u001b[0m\u001b[1;33m*\u001b[0m\u001b[0mconverted_inputs\u001b[0m\u001b[1;33m)\u001b[0m\u001b[1;33m\u001b[0m\u001b[1;33m\u001b[0m\u001b[0m\n\u001b[0m\u001b[0;32m   3741\u001b[0m \u001b[1;33m\u001b[0m\u001b[0m\n\u001b[0;32m   3742\u001b[0m     \u001b[1;31m# EagerTensor.numpy() will often make a copy to ensure memory safety.\u001b[0m\u001b[1;33m\u001b[0m\u001b[1;33m\u001b[0m\u001b[1;33m\u001b[0m\u001b[0m\n",
      "\u001b[1;32m~\\Anaconda3\\lib\\site-packages\\tensorflow_core\\python\\eager\\function.py\u001b[0m in \u001b[0;36m__call__\u001b[1;34m(self, *args, **kwargs)\u001b[0m\n\u001b[0;32m   1079\u001b[0m       \u001b[0mTypeError\u001b[0m\u001b[1;33m:\u001b[0m \u001b[0mFor\u001b[0m \u001b[0minvalid\u001b[0m \u001b[0mpositional\u001b[0m\u001b[1;33m/\u001b[0m\u001b[0mkeyword\u001b[0m \u001b[0margument\u001b[0m \u001b[0mcombinations\u001b[0m\u001b[1;33m.\u001b[0m\u001b[1;33m\u001b[0m\u001b[1;33m\u001b[0m\u001b[0m\n\u001b[0;32m   1080\u001b[0m     \"\"\"\n\u001b[1;32m-> 1081\u001b[1;33m     \u001b[1;32mreturn\u001b[0m \u001b[0mself\u001b[0m\u001b[1;33m.\u001b[0m\u001b[0m_call_impl\u001b[0m\u001b[1;33m(\u001b[0m\u001b[0margs\u001b[0m\u001b[1;33m,\u001b[0m \u001b[0mkwargs\u001b[0m\u001b[1;33m)\u001b[0m\u001b[1;33m\u001b[0m\u001b[1;33m\u001b[0m\u001b[0m\n\u001b[0m\u001b[0;32m   1082\u001b[0m \u001b[1;33m\u001b[0m\u001b[0m\n\u001b[0;32m   1083\u001b[0m   \u001b[1;32mdef\u001b[0m \u001b[0m_call_impl\u001b[0m\u001b[1;33m(\u001b[0m\u001b[0mself\u001b[0m\u001b[1;33m,\u001b[0m \u001b[0margs\u001b[0m\u001b[1;33m,\u001b[0m \u001b[0mkwargs\u001b[0m\u001b[1;33m,\u001b[0m \u001b[0mcancellation_manager\u001b[0m\u001b[1;33m=\u001b[0m\u001b[1;32mNone\u001b[0m\u001b[1;33m)\u001b[0m\u001b[1;33m:\u001b[0m\u001b[1;33m\u001b[0m\u001b[1;33m\u001b[0m\u001b[0m\n",
      "\u001b[1;32m~\\Anaconda3\\lib\\site-packages\\tensorflow_core\\python\\eager\\function.py\u001b[0m in \u001b[0;36m_call_impl\u001b[1;34m(self, args, kwargs, cancellation_manager)\u001b[0m\n\u001b[0;32m   1119\u001b[0m       raise TypeError(\"Keyword arguments {} unknown. Expected {}.\".format(\n\u001b[0;32m   1120\u001b[0m           list(kwargs.keys()), list(self._arg_keywords)))\n\u001b[1;32m-> 1121\u001b[1;33m     \u001b[1;32mreturn\u001b[0m \u001b[0mself\u001b[0m\u001b[1;33m.\u001b[0m\u001b[0m_call_flat\u001b[0m\u001b[1;33m(\u001b[0m\u001b[0margs\u001b[0m\u001b[1;33m,\u001b[0m \u001b[0mself\u001b[0m\u001b[1;33m.\u001b[0m\u001b[0mcaptured_inputs\u001b[0m\u001b[1;33m,\u001b[0m \u001b[0mcancellation_manager\u001b[0m\u001b[1;33m)\u001b[0m\u001b[1;33m\u001b[0m\u001b[1;33m\u001b[0m\u001b[0m\n\u001b[0m\u001b[0;32m   1122\u001b[0m \u001b[1;33m\u001b[0m\u001b[0m\n\u001b[0;32m   1123\u001b[0m   \u001b[1;32mdef\u001b[0m \u001b[0m_filtered_call\u001b[0m\u001b[1;33m(\u001b[0m\u001b[0mself\u001b[0m\u001b[1;33m,\u001b[0m \u001b[0margs\u001b[0m\u001b[1;33m,\u001b[0m \u001b[0mkwargs\u001b[0m\u001b[1;33m)\u001b[0m\u001b[1;33m:\u001b[0m\u001b[1;33m\u001b[0m\u001b[1;33m\u001b[0m\u001b[0m\n",
      "\u001b[1;32m~\\Anaconda3\\lib\\site-packages\\tensorflow_core\\python\\eager\\function.py\u001b[0m in \u001b[0;36m_call_flat\u001b[1;34m(self, args, captured_inputs, cancellation_manager)\u001b[0m\n\u001b[0;32m   1222\u001b[0m     \u001b[1;32mif\u001b[0m \u001b[0mexecuting_eagerly\u001b[0m\u001b[1;33m:\u001b[0m\u001b[1;33m\u001b[0m\u001b[1;33m\u001b[0m\u001b[0m\n\u001b[0;32m   1223\u001b[0m       flat_outputs = forward_function.call(\n\u001b[1;32m-> 1224\u001b[1;33m           ctx, args, cancellation_manager=cancellation_manager)\n\u001b[0m\u001b[0;32m   1225\u001b[0m     \u001b[1;32melse\u001b[0m\u001b[1;33m:\u001b[0m\u001b[1;33m\u001b[0m\u001b[1;33m\u001b[0m\u001b[0m\n\u001b[0;32m   1226\u001b[0m       \u001b[0mgradient_name\u001b[0m \u001b[1;33m=\u001b[0m \u001b[0mself\u001b[0m\u001b[1;33m.\u001b[0m\u001b[0m_delayed_rewrite_functions\u001b[0m\u001b[1;33m.\u001b[0m\u001b[0mregister\u001b[0m\u001b[1;33m(\u001b[0m\u001b[1;33m)\u001b[0m\u001b[1;33m\u001b[0m\u001b[1;33m\u001b[0m\u001b[0m\n",
      "\u001b[1;32m~\\Anaconda3\\lib\\site-packages\\tensorflow_core\\python\\eager\\function.py\u001b[0m in \u001b[0;36mcall\u001b[1;34m(self, ctx, args, cancellation_manager)\u001b[0m\n\u001b[0;32m    509\u001b[0m               \u001b[0minputs\u001b[0m\u001b[1;33m=\u001b[0m\u001b[0margs\u001b[0m\u001b[1;33m,\u001b[0m\u001b[1;33m\u001b[0m\u001b[1;33m\u001b[0m\u001b[0m\n\u001b[0;32m    510\u001b[0m               \u001b[0mattrs\u001b[0m\u001b[1;33m=\u001b[0m\u001b[1;33m(\u001b[0m\u001b[1;34m\"executor_type\"\u001b[0m\u001b[1;33m,\u001b[0m \u001b[0mexecutor_type\u001b[0m\u001b[1;33m,\u001b[0m \u001b[1;34m\"config_proto\"\u001b[0m\u001b[1;33m,\u001b[0m \u001b[0mconfig\u001b[0m\u001b[1;33m)\u001b[0m\u001b[1;33m,\u001b[0m\u001b[1;33m\u001b[0m\u001b[1;33m\u001b[0m\u001b[0m\n\u001b[1;32m--> 511\u001b[1;33m               ctx=ctx)\n\u001b[0m\u001b[0;32m    512\u001b[0m         \u001b[1;32melse\u001b[0m\u001b[1;33m:\u001b[0m\u001b[1;33m\u001b[0m\u001b[1;33m\u001b[0m\u001b[0m\n\u001b[0;32m    513\u001b[0m           outputs = execute.execute_with_cancellation(\n",
      "\u001b[1;32m~\\Anaconda3\\lib\\site-packages\\tensorflow_core\\python\\eager\\execute.py\u001b[0m in \u001b[0;36mquick_execute\u001b[1;34m(op_name, num_outputs, inputs, attrs, ctx, name)\u001b[0m\n\u001b[0;32m     65\u001b[0m     \u001b[1;32melse\u001b[0m\u001b[1;33m:\u001b[0m\u001b[1;33m\u001b[0m\u001b[1;33m\u001b[0m\u001b[0m\n\u001b[0;32m     66\u001b[0m       \u001b[0mmessage\u001b[0m \u001b[1;33m=\u001b[0m \u001b[0me\u001b[0m\u001b[1;33m.\u001b[0m\u001b[0mmessage\u001b[0m\u001b[1;33m\u001b[0m\u001b[1;33m\u001b[0m\u001b[0m\n\u001b[1;32m---> 67\u001b[1;33m     \u001b[0msix\u001b[0m\u001b[1;33m.\u001b[0m\u001b[0mraise_from\u001b[0m\u001b[1;33m(\u001b[0m\u001b[0mcore\u001b[0m\u001b[1;33m.\u001b[0m\u001b[0m_status_to_exception\u001b[0m\u001b[1;33m(\u001b[0m\u001b[0me\u001b[0m\u001b[1;33m.\u001b[0m\u001b[0mcode\u001b[0m\u001b[1;33m,\u001b[0m \u001b[0mmessage\u001b[0m\u001b[1;33m)\u001b[0m\u001b[1;33m,\u001b[0m \u001b[1;32mNone\u001b[0m\u001b[1;33m)\u001b[0m\u001b[1;33m\u001b[0m\u001b[1;33m\u001b[0m\u001b[0m\n\u001b[0m\u001b[0;32m     68\u001b[0m   \u001b[1;32mexcept\u001b[0m \u001b[0mTypeError\u001b[0m \u001b[1;32mas\u001b[0m \u001b[0me\u001b[0m\u001b[1;33m:\u001b[0m\u001b[1;33m\u001b[0m\u001b[1;33m\u001b[0m\u001b[0m\n\u001b[0;32m     69\u001b[0m     keras_symbolic_tensors = [\n",
      "\u001b[1;32m~\\Anaconda3\\lib\\site-packages\\six.py\u001b[0m in \u001b[0;36mraise_from\u001b[1;34m(value, from_value)\u001b[0m\n",
      "\u001b[1;31mResourceExhaustedError\u001b[0m:  OOM when allocating tensor with shape[100,64,360,640] and type float on /job:localhost/replica:0/task:0/device:GPU:0 by allocator GPU_0_bfc\n\t [[node StackedDenseNet/densenet121/conv1/conv/Conv2D (defined at C:\\Users\\Advait\\Anaconda3\\lib\\site-packages\\tensorflow_core\\python\\framework\\ops.py:1751) ]]\nHint: If you want to see a list of allocated tensors when OOM happens, add report_tensor_allocations_upon_oom to RunOptions for current allocation info.\n [Op:__inference_keras_scratch_graph_24889]\n\nFunction call stack:\nkeras_scratch_graph\n"
     ]
    }
   ],
   "source": [
    "data_size = (10000,) + data_generator.image_shape\n",
    "x = np.random.randint(0, 255, data_size, dtype=\"uint8\")\n",
    "y = model.predict(x[:100], batch_size=20) # make sure the model is in GPU memory\n",
    "t0 = time.time()\n",
    "y = model.predict(x, batch_size=100, verbose=1)\n",
    "t1 = time.time()\n",
    "print(x.shape[0] / (t1 - t0))"
   ]
  },
  {
   "cell_type": "markdown",
   "metadata": {},
   "source": [
    "# Define callbacks to enhance model training\n",
    "Here you can define callbacks to pass to the model for use during training. You can use any callbacks available in `deepposekit.callbacks` or `tensorflow.keras.callbacks`\n",
    "\n",
    "Remember, if you set `validation_split=0` for your `TrainingGenerator`, which will just use the training set for model fitting, make sure to set `monitor=\"loss\"` instead of `monitor=\"val_loss\"`.\n",
    "\n",
    "\n",
    "`Logger` evaluates the validation set (or training set if `validation_split=0` in the `TrainingGenerator`) at the end of each epoch and saves the evaluation data to a HDF5 log file (if `filepath` is set)."
   ]
  },
  {
   "cell_type": "code",
   "execution_count": null,
   "metadata": {},
   "outputs": [],
   "source": [
    "logger = Logger(validation_batch_size=10,\n",
    "    # filepath saves the logger data to a .h5 file\n",
    "    # filepath=HOME + \"/deepposekit-data/datasets/fly/log_densenet.h5\"\n",
    ")"
   ]
  },
  {
   "cell_type": "markdown",
   "metadata": {},
   "source": [
    "`ReduceLROnPlateau` automatically reduces the learning rate of the optimizer when the validation loss stops improving. This helps the model to reach a better optimum at the end of training."
   ]
  },
  {
   "cell_type": "code",
   "execution_count": null,
   "metadata": {},
   "outputs": [],
   "source": [
    "reduce_lr = ReduceLROnPlateau(monitor=\"val_loss\", factor=0.2, verbose=1, patience=20)"
   ]
  },
  {
   "cell_type": "markdown",
   "metadata": {},
   "source": [
    "`ModelCheckpoint` automatically saves the model when the validation loss improves at the end of each epoch. This allows you to automatically save the best performing model during training, without having to evaluate the performance manually.\n"
   ]
  },
  {
   "cell_type": "code",
   "execution_count": null,
   "metadata": {},
   "outputs": [],
   "source": [
    "model_checkpoint = ModelCheckpoint(\n",
    "    HOME + video_file_path + \"best_model_densenet.h5\",\n",
    "    monitor=\"val_loss\",\n",
    "    # monitor=\"loss\" # use if validation_split=0\n",
    "    verbose=1,\n",
    "    save_best_only=True,\n",
    ")"
   ]
  },
  {
   "cell_type": "markdown",
   "metadata": {},
   "source": [
    "`EarlyStopping` automatically stops the training session when the validation loss stops improving for a set number of epochs, which is set with the `patience` argument. This allows you to save time when training your model if there's not more improvment."
   ]
  },
  {
   "cell_type": "code",
   "execution_count": null,
   "metadata": {},
   "outputs": [],
   "source": [
    "early_stop = EarlyStopping(\n",
    "    monitor=\"val_loss\",\n",
    "    # monitor=\"loss\" # use if validation_split=0\n",
    "    min_delta=0.001,\n",
    "    patience=100,\n",
    "    verbose=1\n",
    ")"
   ]
  },
  {
   "cell_type": "markdown",
   "metadata": {},
   "source": [
    "Create a list of callbacks to pass to the model"
   ]
  },
  {
   "cell_type": "code",
   "execution_count": null,
   "metadata": {},
   "outputs": [],
   "source": [
    "callbacks = [early_stop, reduce_lr, model_checkpoint, logger]"
   ]
  },
  {
   "cell_type": "markdown",
   "metadata": {},
   "source": [
    "# Fit the model\n",
    "\n",
    "This fits the model for a set number of epochs with small batches of data. If you have a small dataset initially you can set `batch_size` to a small value and manually set `steps_per_epoch` to some large value, e.g. 500, to increase the number of batches per epoch, otherwise this is automatically determined by the size of the dataset.\n",
    "\n",
    "The number of `epochs` is set to `epochs=200` for demonstration purposes. **Increase the number of epochs to train the model longer, for example `epochs=1000`**. The `EarlyStopping` callback will then automatically end training if there is no improvement. See the doc string for details:"
   ]
  },
  {
   "cell_type": "code",
   "execution_count": null,
   "metadata": {},
   "outputs": [],
   "source": [
    "model.fit?"
   ]
  },
  {
   "cell_type": "code",
   "execution_count": null,
   "metadata": {},
   "outputs": [],
   "source": []
  },
  {
   "cell_type": "code",
   "execution_count": null,
   "metadata": {
    "scrolled": true
   },
   "outputs": [],
   "source": [
    "model.fit(\n",
    "    batch_size=16,\n",
    "    validation_batch_size=10,\n",
    "    callbacks=callbacks,\n",
    "    #epochs=1000, # Increase the number of epochs to train the model longer\n",
    "    epochs=5,\n",
    "    n_workers=8,\n",
    "    steps_per_epoch=None,\n",
    ")"
   ]
  },
  {
   "cell_type": "markdown",
   "metadata": {},
   "source": [
    "# Load the model and resume training\n",
    "\n",
    "This loads the saved model and passes it the augmentation pipeline and `DataGenerator` from earlier."
   ]
  },
  {
   "cell_type": "code",
   "execution_count": null,
   "metadata": {},
   "outputs": [],
   "source": [
    "model = load_model(\n",
    "    HOME + video_file_path + \"best_model_densenet.h5\",\n",
    "    augmenter=augmenter,\n",
    "    generator=data_generator,\n",
    ")"
   ]
  },
  {
   "cell_type": "markdown",
   "metadata": {},
   "source": [
    "To resume training, simply call `model.fit` again. We'll run it for another 30 `epochs`"
   ]
  },
  {
   "cell_type": "code",
   "execution_count": null,
   "metadata": {},
   "outputs": [],
   "source": [
    "model.fit(\n",
    "    batch_size=16,\n",
    "    validation_batch_size=10,\n",
    "    callbacks=callbacks,\n",
    "    epochs=2,\n",
    "    n_workers=8,\n",
    "    steps_per_epoch=None,\n",
    ")"
   ]
  },
  {
   "cell_type": "code",
   "execution_count": null,
   "metadata": {},
   "outputs": [],
   "source": []
  }
 ],
 "metadata": {
  "kernelspec": {
   "display_name": "Python 3",
   "language": "python",
   "name": "python3"
  },
  "language_info": {
   "codemirror_mode": {
    "name": "ipython",
    "version": 3
   },
   "file_extension": ".py",
   "mimetype": "text/x-python",
   "name": "python",
   "nbconvert_exporter": "python",
   "pygments_lexer": "ipython3",
   "version": "3.6.12"
  }
 },
 "nbformat": 4,
 "nbformat_minor": 4
}

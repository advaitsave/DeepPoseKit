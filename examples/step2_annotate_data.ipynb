{
 "cells": [
  {
   "cell_type": "markdown",
   "metadata": {},
   "source": [
    "# DeepPoseKit Step 2 - Annotate your data\n",
    "\n",
    "This is step 2 of the example notebooks for using DeepPoseKit. This notebook shows you how to annotate your training data with user-defined keypoints using the saved data from step 1."
   ]
  },
  {
   "cell_type": "markdown",
   "metadata": {},
   "source": [
    "If you haven't already installed DeepPoseKit you can run the next cell"
   ]
  },
  {
   "cell_type": "code",
   "execution_count": 1,
   "metadata": {},
   "outputs": [
    {
     "name": "stdout",
     "output_type": "stream",
     "text": [
      "Requirement already up-to-date: deepposekit in c:\\users\\advait\\anaconda3\\lib\\site-packages (0.3.9)\n",
      "Requirement already satisfied, skipping upgrade: imgaug>=0.2.9 in c:\\users\\advait\\anaconda3\\lib\\site-packages (from deepposekit) (0.4.0)\n",
      "Requirement already satisfied, skipping upgrade: pyyaml in c:\\users\\advait\\anaconda3\\lib\\site-packages (from deepposekit) (5.1.2)\n",
      "Requirement already satisfied, skipping upgrade: pandas in c:\\users\\advait\\anaconda3\\lib\\site-packages (from deepposekit) (1.1.2)\n",
      "Requirement already satisfied, skipping upgrade: h5py in c:\\users\\advait\\anaconda3\\lib\\site-packages (from deepposekit) (2.10.0)\n",
      "Requirement already satisfied, skipping upgrade: numpy in c:\\users\\advait\\anaconda3\\lib\\site-packages (from deepposekit) (1.18.5)\n",
      "Requirement already satisfied, skipping upgrade: matplotlib in c:\\users\\advait\\anaconda3\\lib\\site-packages (from deepposekit) (3.2.1)\n",
      "Requirement already satisfied, skipping upgrade: opencv-python in c:\\users\\advait\\anaconda3\\lib\\site-packages (from deepposekit) (4.5.1.48)\n",
      "Requirement already satisfied, skipping upgrade: scipy in c:\\users\\advait\\anaconda3\\lib\\site-packages (from imgaug>=0.2.9->deepposekit) (1.3.1)\n",
      "Requirement already satisfied, skipping upgrade: imageio in c:\\users\\advait\\anaconda3\\lib\\site-packages (from imgaug>=0.2.9->deepposekit) (2.6.0)\n",
      "Requirement already satisfied, skipping upgrade: six in c:\\users\\advait\\anaconda3\\lib\\site-packages (from imgaug>=0.2.9->deepposekit) (1.15.0)\n",
      "Requirement already satisfied, skipping upgrade: Shapely in c:\\users\\advait\\anaconda3\\lib\\site-packages (from imgaug>=0.2.9->deepposekit) (1.7.1)\n",
      "Requirement already satisfied, skipping upgrade: scikit-image>=0.14.2 in c:\\users\\advait\\anaconda3\\lib\\site-packages (from imgaug>=0.2.9->deepposekit) (0.15.0)\n",
      "Requirement already satisfied, skipping upgrade: Pillow in c:\\users\\advait\\anaconda3\\lib\\site-packages (from imgaug>=0.2.9->deepposekit) (6.2.0)\n",
      "Requirement already satisfied, skipping upgrade: pytz>=2017.2 in c:\\users\\advait\\anaconda3\\lib\\site-packages (from pandas->deepposekit) (2019.3)\n",
      "Requirement already satisfied, skipping upgrade: python-dateutil>=2.7.3 in c:\\users\\advait\\anaconda3\\lib\\site-packages (from pandas->deepposekit) (2.8.0)\n",
      "Requirement already satisfied, skipping upgrade: kiwisolver>=1.0.1 in c:\\users\\advait\\anaconda3\\lib\\site-packages (from matplotlib->deepposekit) (1.1.0)\n",
      "Requirement already satisfied, skipping upgrade: cycler>=0.10 in c:\\users\\advait\\anaconda3\\lib\\site-packages (from matplotlib->deepposekit) (0.10.0)\n",
      "Requirement already satisfied, skipping upgrade: pyparsing!=2.0.4,!=2.1.2,!=2.1.6,>=2.0.1 in c:\\users\\advait\\anaconda3\\lib\\site-packages (from matplotlib->deepposekit) (2.4.2)\n",
      "Requirement already satisfied, skipping upgrade: PyWavelets>=0.4.0 in c:\\users\\advait\\anaconda3\\lib\\site-packages (from scikit-image>=0.14.2->imgaug>=0.2.9->deepposekit) (1.0.3)\n",
      "Requirement already satisfied, skipping upgrade: networkx>=2.0 in c:\\users\\advait\\anaconda3\\lib\\site-packages (from scikit-image>=0.14.2->imgaug>=0.2.9->deepposekit) (2.3)\n",
      "Requirement already satisfied, skipping upgrade: setuptools in c:\\users\\advait\\anaconda3\\lib\\site-packages (from kiwisolver>=1.0.1->matplotlib->deepposekit) (42.0.0)\n",
      "Requirement already satisfied, skipping upgrade: decorator>=4.3.0 in c:\\users\\advait\\anaconda3\\lib\\site-packages (from networkx>=2.0->scikit-image>=0.14.2->imgaug>=0.2.9->deepposekit) (4.4.0)\n"
     ]
    }
   ],
   "source": [
    "import sys\n",
    "!{sys.executable} -m pip install -U deepposekit"
   ]
  },
  {
   "cell_type": "code",
   "execution_count": 4,
   "metadata": {},
   "outputs": [],
   "source": [
    "from deepposekit import Annotator\n",
    "from os.path import expanduser\n",
    "import glob\n",
    "#HOME = expanduser(\"~\")\n"
   ]
  },
  {
   "cell_type": "markdown",
   "metadata": {},
   "source": [
    "Use the next cell to download the example data into your home directory"
   ]
  },
  {
   "cell_type": "code",
   "execution_count": 2,
   "metadata": {},
   "outputs": [],
   "source": [
    "HOME = 'E:\\\\Work\\\\github repos\\\\deepposekit_data_custom'\n",
    "video_file_path = '\\\\human\\\\'\n",
    "video_file_name = 'pose_human_test.mp4'"
   ]
  },
  {
   "cell_type": "code",
   "execution_count": 3,
   "metadata": {},
   "outputs": [
    {
     "name": "stderr",
     "output_type": "stream",
     "text": [
      "fatal: destination path 'C:\\Users\\Advait/deepposekit-data' already exists and is not an empty directory.\n"
     ]
    }
   ],
   "source": [
    "!git clone https://github.com/jgraving/deepposekit-data {HOME + '/deepposekit-data'}"
   ]
  },
  {
   "cell_type": "markdown",
   "metadata": {},
   "source": [
    "Annotation Hotkeys\n",
    "------------\n",
    "* <kbd>+</kbd><kbd>-</kbd> = rescale image by ±10%\n",
    "* <kbd>left mouse button</kbd> = move active keypoint to cursor location\n",
    "* <kbd>W</kbd><kbd>A</kbd><kbd>S</kbd><kbd>D</kbd> = move active keypoint 1px or 10px\n",
    "* <kbd>space</kbd> = change <kbd>W</kbd><kbd>A</kbd><kbd>S</kbd><kbd>D</kbd> mode (swaps between 1px or 10px movements)\n",
    "* <kbd>J</kbd><kbd>L</kbd> = next or previous image\n",
    "* <kbd><</kbd><kbd>></kbd> = jump 10 images forward or backward\n",
    "* <kbd>I</kbd>,<kbd>K</kbd> or <kbd>tab</kbd>, <kbd>shift</kbd>+<kbd>tab</kbd> = switch active keypoint\n",
    "* <kbd>R</kbd> = mark image as unannotated (\"reset\")\n",
    "* <kbd>F</kbd> = mark image as annotated (\"finished\")\n",
    "* <kbd>V</kbd> = mark active keypoint as visible\n",
    "* <kbd>esc</kbd> or <kbd>Q</kbd> = quit\n",
    "\n",
    "# Annotate data\n",
    "Annotations are saved automatically. \n",
    "The skeleton in each frame will turn blue when the frame is fully annotated. If there are no visible keypoints, this means the frame hasn't been annotated, so try clicking to position the keypoint in the frame."
   ]
  },
  {
   "cell_type": "code",
   "execution_count": 5,
   "metadata": {},
   "outputs": [
    {
     "name": "stderr",
     "output_type": "stream",
     "text": [
      "C:\\Users\\Advait\\Anaconda3\\lib\\site-packages\\deepposekit\\annotate\\gui\\Annotator.py:185: H5pyDeprecationWarning: dataset.value has been deprecated. Use dataset[()] instead.\n",
      "  self.image_idx = np.sum(np.all(h5file[\"annotated\"].value, axis=1)) - 1\n"
     ]
    }
   ],
   "source": [
    "app = Annotator(datapath=HOME + video_file_path + 'example_annotation_set.h5',\n",
    "                dataset='images',\n",
    "                skeleton=HOME + video_file_path + 'skeleton.csv',\n",
    "                shuffle_colors=False,\n",
    "                text_scale=0.2)"
   ]
  },
  {
   "cell_type": "code",
   "execution_count": 6,
   "metadata": {},
   "outputs": [
    {
     "name": "stderr",
     "output_type": "stream",
     "text": [
      "C:\\Users\\Advait\\Anaconda3\\lib\\site-packages\\deepposekit\\annotate\\gui\\Annotator.py:199: H5pyDeprecationWarning: The default file mode will change to 'r' (read-only) in h5py 3.0. To suppress this warning, pass the mode you need to h5py.File(), or set the global default h5.get_config().default_file_mode, or set the environment variable H5PY_DEFAULT_READONLY=1. Available modes are: 'r', 'r+', 'w', 'w-'/'x', 'a'. See the docs for details.\n",
      "  with h5py.File(self.datapath) as h5file:\n",
      "C:\\Users\\Advait\\Anaconda3\\lib\\site-packages\\deepposekit\\annotate\\gui\\Annotator.py:218: H5pyDeprecationWarning: The default file mode will change to 'r' (read-only) in h5py 3.0. To suppress this warning, pass the mode you need to h5py.File(), or set the global default h5.get_config().default_file_mode, or set the environment variable H5PY_DEFAULT_READONLY=1. Available modes are: 'r', 'r+', 'w', 'w-'/'x', 'a'. See the docs for details.\n",
      "  with h5py.File(self.datapath) as h5file:\n"
     ]
    },
    {
     "ename": "KeyboardInterrupt",
     "evalue": "",
     "output_type": "error",
     "traceback": [
      "\u001b[1;31m---------------------------------------------------------------------------\u001b[0m",
      "\u001b[1;31mKeyboardInterrupt\u001b[0m                         Traceback (most recent call last)",
      "\u001b[1;32m<ipython-input-6-b72f3165c8a5>\u001b[0m in \u001b[0;36m<module>\u001b[1;34m\u001b[0m\n\u001b[1;32m----> 1\u001b[1;33m \u001b[0mapp\u001b[0m\u001b[1;33m.\u001b[0m\u001b[0mrun\u001b[0m\u001b[1;33m(\u001b[0m\u001b[1;33m)\u001b[0m\u001b[1;33m\u001b[0m\u001b[1;33m\u001b[0m\u001b[0m\n\u001b[0m",
      "\u001b[1;32m~\\Anaconda3\\lib\\site-packages\\deepposekit\\annotate\\gui\\GUI.py\u001b[0m in \u001b[0;36mrun\u001b[1;34m(self)\u001b[0m\n\u001b[0;32m    654\u001b[0m         \u001b[0mself\u001b[0m\u001b[1;33m.\u001b[0m\u001b[0m_update_canvas\u001b[0m\u001b[1;33m(\u001b[0m\u001b[1;33m)\u001b[0m\u001b[1;33m\u001b[0m\u001b[1;33m\u001b[0m\u001b[0m\n\u001b[0;32m    655\u001b[0m         \u001b[1;32mwhile\u001b[0m \u001b[1;32mTrue\u001b[0m\u001b[1;33m:\u001b[0m\u001b[1;33m\u001b[0m\u001b[1;33m\u001b[0m\u001b[0m\n\u001b[1;32m--> 656\u001b[1;33m             \u001b[0mself\u001b[0m\u001b[1;33m.\u001b[0m\u001b[0mkey\u001b[0m \u001b[1;33m=\u001b[0m \u001b[0mcv2\u001b[0m\u001b[1;33m.\u001b[0m\u001b[0mwaitKey\u001b[0m\u001b[1;33m(\u001b[0m\u001b[0mself\u001b[0m\u001b[1;33m.\u001b[0m\u001b[0mrefresh\u001b[0m\u001b[1;33m)\u001b[0m \u001b[1;33m&\u001b[0m \u001b[1;36m0xFF\u001b[0m\u001b[1;33m\u001b[0m\u001b[1;33m\u001b[0m\u001b[0m\n\u001b[0m\u001b[0;32m    657\u001b[0m             \u001b[0mself\u001b[0m\u001b[1;33m.\u001b[0m\u001b[0m_hotkeys\u001b[0m\u001b[1;33m(\u001b[0m\u001b[1;33m)\u001b[0m\u001b[1;33m\u001b[0m\u001b[1;33m\u001b[0m\u001b[0m\n\u001b[0;32m    658\u001b[0m             \u001b[1;32mif\u001b[0m \u001b[0mself\u001b[0m\u001b[1;33m.\u001b[0m\u001b[0m_exit\u001b[0m\u001b[1;33m(\u001b[0m\u001b[1;33m)\u001b[0m\u001b[1;33m:\u001b[0m\u001b[1;33m\u001b[0m\u001b[1;33m\u001b[0m\u001b[0m\n",
      "\u001b[1;31mKeyboardInterrupt\u001b[0m: "
     ]
    }
   ],
   "source": [
    "app.run()"
   ]
  },
  {
   "cell_type": "code",
   "execution_count": null,
   "metadata": {},
   "outputs": [],
   "source": []
  }
 ],
 "metadata": {
  "kernelspec": {
   "display_name": "Python 3",
   "language": "python",
   "name": "python3"
  },
  "language_info": {
   "codemirror_mode": {
    "name": "ipython",
    "version": 3
   },
   "file_extension": ".py",
   "mimetype": "text/x-python",
   "name": "python",
   "nbconvert_exporter": "python",
   "pygments_lexer": "ipython3",
   "version": "3.6.12"
  }
 },
 "nbformat": 4,
 "nbformat_minor": 4
}
